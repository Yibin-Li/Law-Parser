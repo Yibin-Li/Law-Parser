{
 "cells": [
  {
   "cell_type": "code",
   "execution_count": 2,
   "metadata": {},
   "outputs": [],
   "source": [
    "import pandas as pd\n",
    "from pyhanlp import *"
   ]
  },
  {
   "cell_type": "code",
   "execution_count": null,
   "metadata": {},
   "outputs": [],
   "source": [
    "\"\"\" Extract decision and create decision.csv with decision and pid \"\"\"\n",
    "# pollution_df = pd.read_csv(\"pollution_data/pollution_original_parsed.csv\")\n",
    "# print(pollution_df['decision'])\n",
    "# decision_df = pollution_df[['pid', 'case_number_id', 'title', 'decision']]\n",
    "# print(decision_df[:6])\n",
    "# decision_df.to_csv(\"decision.csv\", encoding='utf-8-sig')"
   ]
  },
  {
   "cell_type": "code",
   "execution_count": null,
   "metadata": {},
   "outputs": [],
   "source": [
    "\"\"\" Extract name information from pid; update decision.csv\"\"\"\n",
    "# decision_df = pd.read_csv(\"./decision_origin.csv\")\n",
    "# pollution_df = pd.read_csv(\"pollution_data/pollution.csv\")\n",
    "# name_lst = []\n",
    "# for index, row in decision_df.iterrows():\n",
    "#     pid = row['pid']\n",
    "#     k = pollution_df.loc[(pollution_df['Id'] == pid) & (pollution_df['Role'].isin([\"Appellant\", \"Defendant\"]))]\n",
    "#     name_lst.append(k['Name'].values)\n",
    "# # name_series = pd.Series(name_lst)\n",
    "# decision_df['name'] = name_lst\n",
    "# decision_df = decision_df.reindex(columns=[\"pid\", \"case_number_id\", \"title\", \"name\", \"decision\"])\n",
    "# decision_df.to_csv(\"decision.csv\", encoding='utf-8-sig')"
   ]
  },
  {
   "cell_type": "code",
   "execution_count": null,
   "metadata": {},
   "outputs": [],
   "source": [
    "\"\"\" Fixing missing name in \"name\" column; update decision.csv\"\"\"\n",
    "# def find_name(s):\n",
    "#     name = []\n",
    "#     if \"等\" in s:\n",
    "#         for i in range(len(s)):\n",
    "#             if s[i] == \"等\":\n",
    "#                 name.append(s[:i])\n",
    "#     elif \"犯\" in s:\n",
    "#         for i in range(len(s)):\n",
    "#             if s[i] == \"犯\" and s[i+1] == \"污\":\n",
    "#                 name.append(s[:i])\n",
    "#     else:\n",
    "#         for i in range(len(s)):\n",
    "#             if s[i] == \"污\" and s[i+1] == \"染\":\n",
    "#                 name.append(s[:i])\n",
    "#     return name\n",
    "#\n",
    "# decision_df = pd.read_csv(\"./decision.csv\")\n",
    "# for index, row in decision_df.iterrows():\n",
    "#     if len(row[\"name\"]) < 3:\n",
    "#         name = find_name(row[\"title\"])\n",
    "#         #print(row[\"name\"])\n",
    "#         decision_df.at[index,'name'] = name\n",
    "# decision_df.to_csv(\"decision.csv\", encoding='utf-8-sig')"
   ]
  },
  {
   "cell_type": "code",
   "execution_count": 3,
   "metadata": {},
   "outputs": [
    {
     "name": "stdout",
     "output_type": "stream",
     "text": [
      "[[\"/w,  /w, 一/m, 、/w, 被告/n, 单位/n, 瑞安/nrf, 宝源/nz, 化工/n, 有限公司/nis, 犯/v, 污染/vn, 环境/n, 罪/n, ，/w, 判处/v, 罚金/n, 人民币/n, 8000000/m, 元/q, 。/w, 罚金/n, 限/v, 本/rz, 判决/vn, 生效/vi, 之日起/ns, 十/m, 日内/t, 缴纳/v, 。/w, \"/w]\n",
      "done\n"
     ]
    }
   ],
   "source": [
    "\"\"\" NLP Stuff\"\"\"\n",
    "# title = decision_df['title']\n",
    "# print(title)\n",
    "# for i in title:\n",
    "#     s_hanlp = HanLP.segment(i)\n",
    "#     print(s_hanlp)\n",
    "sentence1 = '[\" 一、被告单位瑞安宝源化工有限公司犯污染环境罪，判处罚金人民币8000000元。罚金限本判决生效之日起十日内缴纳。\", \"二、被告人林文弟犯污染环境罪，判处有期徒刑四年六个月，并处罚金人民币200000元。罚金限本判决生效之日起十日内缴纳。\", \"（刑期从判决执行之日起计算。判决执行以前先行羁押的，羁押一日折抵刑期一日。即自2014年11月19日起至2019年5月18日止）。\", \"三、被告人陈乐平犯污染环境罪，判处有期徒刑三年，并处罚金人民币100000元。罚金限本判决生效之日起十日内缴纳。\", \"（刑期从判决执行之日起计算。判决执行以前先行羁押的，羁押一日折抵刑期一日。即自2014年11月18日起至2017年11月17日止）。\", \"四、被告人戴锡全犯污染环境罪，判处有期徒刑四年，并处罚金人民币200000元。罚金限本判决生效之日起十日内缴纳。\", \"（刑期从判决执行之日起计算。判决执行以前先行羁押的，羁押一日折抵刑期一日。即自2015年3月17日起至2019年3月16日止）。\", \"五、被告人尚某犯污染环境罪，判处有期徒刑二年，缓刑三年，并处罚金人民币50000元。罚金限本判决生效之日起十日内缴纳。\", \"（缓刑考验期限从判决确定之日起计算）。\", \"六、被告人吴某犯污染环境罪，判处有期徒刑二年，缓刑三年，并处罚金人民币50000元。罚金限本判决生效之日起十日内缴纳。\", \"（缓刑考验期限从判决确定之日起计算）。\", \"七、被告人李某甲犯污染环境罪，判处有期徒刑二年，缓刑三年，并处罚金人民币50000元。罚金限本判决生效之日起十日内缴纳。\", \"（缓刑考验期限从判决确定之日起计算）。\", \"八、被告人储某犯污染环境罪，判处有期徒刑二年，缓刑三年，并处罚金人民币50000元。罚金限本判决生效之日起十日内缴纳。\", \"（缓刑考验期限从判决确定之日起计算）。\", \"九、被告人黄某甲犯污染环境罪，判处有期徒刑二年，缓刑三年，并处罚金人民币100000元。罚金限本判决生效之日起十日内缴纳。\", \"（缓刑考验期限从判决确定之日起计算）。\", \"如不服本判决，可在接到判决书的第二日起十日内，通过本院或直接向浙江省温州市中级人民法院提出上诉。书面上诉的，应当提交上诉状正本一份、副本二份。\"]'\n",
    "sentence2 = '[\" 被告人宋某犯污染环境罪，判处有期徒刑一年六个月，缓刑二年六个月，并处罚金人民币五万元。\", \"缓刑考验期限，从判决确定之日起计算。\", \"被告人蔚某犯污染环境罪，判处有期徒刑一年，缓刑二年，并处罚金人民币二万元。\", \"缓刑考验期限，从判决确定之日起计算。\", \"如不服本判决，可在接到判决书的第二日起十日内，通过本院或直接向吕梁市中级人民法院提出上诉，书面上诉的，应当提交上诉状正本一份，副本五份。\"]'\n",
    "sentence3 = '[\" 一、维持邹平县人民法院（2017）鲁1626刑初253号刑事判决第一项及第二项中对上诉人（原审被告人）李现民、原审被告人张芝军、王玲、张芝广犯污染环境罪的定罪处刑部分。\", \"二、撤销邹平县人民法院（2017）鲁1626刑初253号刑事判决第二项中对上诉人（原审被告人）李现民的合并执行部分。\", \"三、上诉人（原审被告人）李现民犯污染环境罪，判处有期徒刑三年，并处罚金人民币六万元，与前犯危险驾驶罪所判处拘役六个月并罚，决定执行有期徒刑三年，并处罚金人民币六万元。\", \"（刑期从判决执行之日起计算。判决执行以前先行羁押的，羁押一日折抵刑期一日，即自2017年3月10日起至2020年3月9日止。罚金于本判决生效后十日内缴纳。）\", \"本判决为终审判决。\"]'\n",
    "w = sentence1.split(\",\")[0]\n",
    "s_hanlp_w = HanLP.segment(w)\n",
    "print(s_hanlp_w)\n",
    "#print(type(s_hanlp_k))\n",
    "\n",
    "# for i in range(3):\n",
    "#     name.append(s_hanlp_k.get(i).word)\n",
    "\n",
    "print(\"done\")\n",
    "# print(find_name(w), \" \", find_name(k), \" \", find_name(v))\n",
    "# print(str(s_hanlp_w.get(5).nature))\n",
    "# print(str(s_hanlp_w.get(5).nature) == \"n\")"
   ]
  },
  {
   "cell_type": "code",
   "execution_count": 293,
   "metadata": {},
   "outputs": [
    {
     "data": {
      "text/plain": [
       "[{'被告单位': '瑞安宝源化工有限公司', '罚金': '人民币8000000元'},\n",
       " {'被告人': '林文弟', '有期徒刑': '四年六个月', '罚金': '人民币200000元'},\n",
       " {'被告人': '陈乐平', '有期徒刑': '三年', '罚金': '人民币100000元'},\n",
       " {'被告人': '戴锡全', '有期徒刑': '四年', '罚金': '人民币200000元'},\n",
       " {'被告人': '尚某', '有期徒刑': '二年', '缓刑': '三年', '罚金': '人民币50000元'},\n",
       " {'被告人': '吴某', '有期徒刑': '二年', '缓刑': '三年', '罚金': '人民币50000元'},\n",
       " {'被告人': '李某甲', '有期徒刑': '二年', '缓刑': '三年', '罚金': '人民币50000元'},\n",
       " {'被告人': '储某', '有期徒刑': '二年', '缓刑': '三年', '罚金': '人民币50000元'},\n",
       " {'被告人': '黄某甲', '有期徒刑': '二年', '缓刑': '三年', '罚金': '人民币100000元'}]"
      ]
     },
     "execution_count": 293,
     "metadata": {},
     "output_type": "execute_result"
    }
   ],
   "source": [
    "# helper function\n",
    "def extract_penalties(sentence, name, i, decision_dic, nature, find_lst, addition_nature=None):\n",
    "    \"\"\" Extract court decisions from decision column\"\"\"\n",
    "    k = i + 1\n",
    "    p = []\n",
    "    while k < len(sentence):\n",
    "        if addition_nature is None:\n",
    "            if (str(sentence.get(k).nature) == nature):\n",
    "                break\n",
    "            else:\n",
    "                p.append(sentence.get(k).word)\n",
    "        else:\n",
    "            if (str(sentence.get(k).nature) == nature) or (str(sentence.get(k).nature) == addition_nature):\n",
    "                break\n",
    "            else:\n",
    "                p.append(sentence.get(k).word)\n",
    "        k += 1\n",
    "    if len(p) > 0:\n",
    "        decision_dic[name] = \"\".join(p)\n",
    "    find_lst[name] = False\n",
    "    return find_lst, decision_dic\n",
    " \n",
    "def clean_penalties(s):\n",
    "    \"\"\"find all penalties from a single sentence\"\"\"\n",
    "    def find_penalties(decision):\n",
    "        decision_dic = {}\n",
    "        if (\"被告\" in decision):\n",
    "            sentence = HanLP.segment(decision)\n",
    "            find_lst = {\"被告人\":True, \"单位\":True, \"有期徒刑\":True, \"罚金\":True, \n",
    "                        \"缓刑\":True, \"羁押\":True, \"拘役\":True}\n",
    "            for i in range(len(sentence)):\n",
    "                # ignore special words (维持，驳回，撤销)\n",
    "                if (sentence.get(i).word == \"单位\") and (find_lst[\"单位\"]):\n",
    "                    find_lst, decision_dic = extract_penalties(sentence, \"被告单位\", i, decision_dic, \"v\", find_lst)\n",
    "                if (sentence.get(i).word == \"上诉人\") and (find_lst[\"被告人\"]):\n",
    "                    find_lst, decision_dic = extract_penalties(sentence, \"被告人\", i, decision_dic, \"v\", find_lst)    \n",
    "                if (sentence.get(i).word == \"被告人\") and (find_lst[\"被告人\"]):\n",
    "                    find_lst, decision_dic = extract_penalties(sentence, \"被告人\", i, decision_dic, \"v\", find_lst)\n",
    "                if (sentence.get(i).word == \"有期徒刑\") and (find_lst[\"有期徒刑\"]):\n",
    "                    find_lst, decision_dic = extract_penalties(sentence, \"有期徒刑\", i, decision_dic, \"w\", find_lst)\n",
    "                if (sentence.get(i).word == \"罚金\") and (find_lst[\"罚金\"]):\n",
    "                    find_lst, decision_dic = extract_penalties(sentence, \"罚金\", i, decision_dic, \"w\", find_lst)\n",
    "                if (sentence.get(i).word == \"处罚金\") and (find_lst[\"罚金\"]):\n",
    "                    find_lst, decision_dic = extract_penalties(sentence, \"处罚金\", i, decision_dic, \"w\", find_lst)\n",
    "                if (sentence.get(i).word == \"缓刑\") and (find_lst[\"缓刑\"]):\n",
    "                    find_lst, decision_dic = extract_penalties(sentence, \"缓刑\", i, decision_dic, \"w\", find_lst)    \n",
    "                if (sentence.get(i).word == \"羁押\") and (find_lst[\"羁押\"]):\n",
    "                    find_lst, decision_dic = extract_penalties(sentence, \"羁押\", i, decision_dic, \"w\", find_lst)    \n",
    "                if (sentence.get(i).word == \"拘役\") and (find_lst[\"拘役\"]):\n",
    "                    find_lst, decision_dic = extract_penalties(sentence, \"拘役\", i, decision_dic, \"w\", find_lst)    \n",
    "        return decision_dic\n",
    "    \n",
    "    sentence_lst = []\n",
    "    splitted = s.split(\"。\")\n",
    "    for i in splitted:\n",
    "        o = i.split(\"；\")\n",
    "        for j in o:\n",
    "            sentence_lst.append(j)\n",
    "    penalties = []\n",
    "#     if (\"维持\" in sentence) or (\"撤销\" in sentence) or (\"免予\" in test):\n",
    "#         return {}\n",
    "#     if (\"维持\" in s) or (\"撤销\" in s):\n",
    "#          return {}\n",
    "    for i in sentence_lst:\n",
    "        p = find_penalties(i)\n",
    "        if \"免予\" in i:\n",
    "            p[\"免予处罚\"] = True\n",
    "        if len(p) > 1:\n",
    "            penalties.append(p)\n",
    "    return penalties\n",
    "penalties = clean_penalties(sentence1)\n",
    "penalties"
   ]
  },
  {
   "cell_type": "markdown",
   "metadata": {},
   "source": [
    "### Clean and fix some indexs data, then classify them"
   ]
  },
  {
   "cell_type": "code",
   "execution_count": 294,
   "metadata": {},
   "outputs": [],
   "source": [
    "def shorten(text):\n",
    "    \"\"\"shorten the given text to avoid possible confusion\"\"\"\n",
    "    if len(text) > 300:\n",
    "        return text[:300]\n",
    "    else:\n",
    "        return text\n",
    "    \n",
    "def find_content(index):\n",
    "    \"\"\"find decision from given row index\"\"\"\n",
    "    text = pollution_df[\"originaltext\"][index]\n",
    "    start_index = text.find(\"判决如下\")\n",
    "    end_index = text.find(\"\\t审\")\n",
    "    decision = text[start_index:end_index]\n",
    "    return decision"
   ]
  },
  {
   "cell_type": "code",
   "execution_count": 295,
   "metadata": {},
   "outputs": [],
   "source": [
    "# load decision df and clean df at certain index\n",
    "decision_df = pd.read_csv(\"./decision.csv\")\n",
    "\n",
    "# replace empty/faulty decision cell with correct content\n",
    "index_to_clean = [57, 735, 1437, 1523, 1996, 2039, 2630, 5088, 5688, 5734]\n",
    "for i in index_to_clean:\n",
    "    decision_df.loc[i, \"decision\"] = find_content(i)\n",
    "decision_df.loc[5734, \"decision\"] = '判决如下：\\n被告人王某犯污染环境罪，判处有期徒刑一年，并处罚金20000元。\\n（刑期从判决执行之日起计算，判决执行以前先行羁押的，羁押一日折抵刑期一日，即自2015年7月2日起至2016年7月1日止）。\\n如不服本判决，可在接到判决书的第二日起十日内，通过本院或者直接向邯郸市中级人民法院提出上诉。书面上诉的，应当提交上诉状正本一份，副本三份。\\n审\\u3000判\\u3000长\\u3000\\u3000张宪锋\\n审\\u3000判\\u3000员\\u3000\\u3000刘钰娜\\n人民陪审员\\u3000\\u3000赵小蕾\\n二〇一六年六月三日\\n书\\u3000记\\u3000员\\u3000\\u3000李\\u3000宁\\n'\n",
    "decision_df.loc[2630, \"decision\"] = '判决如下：\\n\\n\\n\\t被告人姜某犯污染环境罪，免予刑事处罚。\\n\\n\\n\\t如不服本判决，可在接到判决书的第二日起十日内，通过本院或者直接向辽宁省铁岭市中级人民法院提出上诉。书面上诉的，应当提交上诉状正本一份，副本二份。\\n\\n\\n'"
   ]
  },
  {
   "cell_type": "code",
   "execution_count": 296,
   "metadata": {},
   "outputs": [],
   "source": [
    "# special case index that cannot be classfied by parser\n",
    "special = [1996]"
   ]
  },
  {
   "cell_type": "code",
   "execution_count": 297,
   "metadata": {},
   "outputs": [
    {
     "data": {
      "text/plain": [
       "(6107, 7)"
      ]
     },
     "execution_count": 297,
     "metadata": {},
     "output_type": "execute_result"
    }
   ],
   "source": [
    "decision_df.shape"
   ]
  },
  {
   "cell_type": "code",
   "execution_count": 298,
   "metadata": {},
   "outputs": [],
   "source": [
    "# find the number of unique cases in the dataframe\n",
    "len_data = []\n",
    "unique_case = []\n",
    "for index, row in decision_df.iterrows():\n",
    "    l = len(clean_penalties(shorten(row['decision'])))\n",
    "    if l < 1:\n",
    "        unique_case.append(index)\n",
    "    len_data.append(l)"
   ]
  },
  {
   "cell_type": "code",
   "execution_count": 299,
   "metadata": {},
   "outputs": [
    {
     "data": {
      "text/plain": [
       "230"
      ]
     },
     "execution_count": 299,
     "metadata": {},
     "output_type": "execute_result"
    }
   ],
   "source": [
    "len(unique_case)"
   ]
  },
  {
   "cell_type": "code",
   "execution_count": 143,
   "metadata": {},
   "outputs": [],
   "source": [
    "#unique_case"
   ]
  },
  {
   "cell_type": "code",
   "execution_count": 120,
   "metadata": {},
   "outputs": [
    {
     "name": "stdout",
     "output_type": "stream",
     "text": [
      "[1996]\n"
     ]
    },
    {
     "data": {
      "text/plain": [
       "True"
      ]
     },
     "execution_count": 120,
     "metadata": {},
     "output_type": "execute_result"
    }
   ],
   "source": [
    "# faulty_decision_column_index = []\n",
    "# for i in unique_case:\n",
    "#     test = decision_df[\"decision\"][i]\n",
    "#     if (\"维持\" not in test) and (\"驳回\" not in test) and (\"撤销\" not in test) and (\"免予\" not in test):\n",
    "#         faulty_decision_column_index.append(i)\n",
    "#     #print(test)\n",
    "# print(faulty_decision_column_index)"
   ]
  },
  {
   "cell_type": "code",
   "execution_count": 138,
   "metadata": {},
   "outputs": [],
   "source": [
    "# special_lst = []\n",
    "# for index, row in decision_df.iterrows():\n",
    "#     test = row[\"decision\"]\n",
    "#     if (\"维持\" in test) or (\"驳回\" in test) or (\"撤销\" in test) or (\"免予\" in test):\n",
    "#         special_lst.append(index)\n",
    "#special_lst"
   ]
  },
  {
   "cell_type": "code",
   "execution_count": 238,
   "metadata": {},
   "outputs": [
    {
     "name": "stdout",
     "output_type": "stream",
     "text": [
      "1:  221\n",
      "2:  8\n"
     ]
    },
    {
     "data": {
      "text/plain": [
       "[624, 2136, 3147, 3285, 5221, 5581, 5751, 5873]"
      ]
     },
     "execution_count": 238,
     "metadata": {},
     "output_type": "execute_result"
    }
   ],
   "source": [
    "result = []\n",
    "maintain = []\n",
    "cancel = []\n",
    "for i in unique_case:\n",
    "    test = decision_df[\"decision\"][i]\n",
    "    if (\"维持\" in test):\n",
    "        result.append(1)\n",
    "        maintain.append(i)\n",
    "    elif (\"撤销\" in test):\n",
    "        result.append(2)\n",
    "        cancel.append(i)\n",
    "print(\"1: \", result.count(1))\n",
    "print(\"2: \", result.count(2))\n",
    "# 1st no \";\" split\n",
    "# 1:  263\n",
    "# 2:  56\n",
    "# 2nd with \";\" split\n",
    "# 1:  221\n",
    "# 2:  8\n",
    "#maintain\n",
    "maintain"
   ]
  },
  {
   "cell_type": "code",
   "execution_count": 261,
   "metadata": {},
   "outputs": [
    {
     "data": {
      "text/plain": [
       "['上诉人史某犯污染环境罪，判处有期徒刑二年',\n",
       " '（刑期从判决执行之日起计算，判决执行以前先行羁押的，羁押一日折抵刑期一日，即自2013年6月11日起至2015年6月10日止）']"
      ]
     },
     "execution_count": 261,
     "metadata": {},
     "output_type": "execute_result"
    }
   ],
   "source": [
    "o = \"上诉人史某犯污染环境罪，判处有期徒刑二年；（刑期从判决执行之日起计算，判决执行以前先行羁押的，羁押一日折抵刑期一日，即自2013年6月11日起至2015年6月10日止）\"\n",
    "k = o.split(\"；\")\n",
    "k"
   ]
  },
  {
   "cell_type": "code",
   "execution_count": 244,
   "metadata": {},
   "outputs": [
    {
     "name": "stdout",
     "output_type": "stream",
     "text": [
      "[\" 一、撤销山东省鄄城县人民法院（2013）鄄刑初字第130号刑事判决。\", \"二、上诉人王某犯污染环境罪，判处有期徒刑二年六个月；\", \"（刑期从判决执行之日起计算，判决执行以前先行羁押的，羁押一日折抵刑期一日，即自2013年6月23日起至2015年12月22日止）\", \"上诉人史某犯污染环境罪，判处有期徒刑二年；\", \"（刑期从判决执行之日起计算，判决执行以前先行羁押的，羁押一日折抵刑期一日，即自2013年6月11日起至2015年6月10日止）\", \"上诉人冯某犯污染环境罪，判处有期徒刑二年。\", \"（刑期从判决执行之日起计算，判决执行以前先行羁押的，羁押一日折抵刑期一日，即自2013年4月12日起至2015年4月11日止）\", \"本判决为终审判决。\"]\n",
      "[\" 一、撤销北京市海淀区人民法院（2018）京0108刑初389号刑事判决的主文。\", \"二、上诉人孙福军犯污染环境罪，免予刑事处罚。\", \"本判决为终审判决。\"]\n",
      "[\" 本院认为，原审判决部分事实不清，证据不足，程序违法，可能影响公正审判，依照《中华人民共和国刑事诉讼法》第二百二十五条第一款第（三）项、第二百二十七条第（五）项的规定，裁定如下：\", \"一、撤销江门市蓬江区人民法院（2017）粤0703刑初968号判决；\", \"二、发回江门市蓬江区人民法院重新审判。\", \"本裁定为终审裁定。\"]\n",
      "[\" 一、撤销福建省闽侯县人民法院（2017）闽0121刑初297号刑事判决；\", \"二、上诉人余端勇犯污染环境罪，判处有期徒刑一年三个月，并处罚金人民币20万元。（刑期从判决执行之日起计算。判决执行以前先行羁押的七日，羁押七日折抵刑期七日，即自2017年3月2日起至2018年5月25日止。罚金人民币20万元已缴纳）。\", \"本判决为终审判决。\"]\n",
      "[\" 一、撤销广西壮族自治区博白县人民法院（2016）桂0923刑初680号刑事判决。\", \"二、上诉人黄祖奎犯污染环境罪，判处有期徒刑二年九个月，缓刑四年，并处罚金人民币七万元。\", \"（缓刑考验期限，从判决确定之日起计算。罚金已缴纳二万元，剩余罚金限在判决生效后一个月内一次性缴纳，逾期不缴纳的，强制缴纳。）\", \"本判决为终审判决。\"]\n",
      "[\" 一、撤销广西壮族自治区博白县人民法院（2016）桂0923刑初306号刑事判决。\", \"二、上诉人黎明犯污染环境罪，判处有期徒刑二年六个月，缓刑三年，并处罚金人民币五万元。\", \"（缓刑考验期限，从判决确定之日起计算。罚金已缴纳二万元，剩余罚金限在判决生效后一个月内一次性缴纳，逾期不缴纳的，强制缴纳。）\", \"三、上诉人刘刚犯污染环境罪，判处有期徒刑二年三个月，缓刑三年，并处罚金人民币四万元。\", \"（缓刑考验期限，从判决确定之日起计算。罚金已缴纳二万元，剩余罚金限在判决生效后一个月内一次性缴纳，逾期不缴纳的，强制缴纳。）\", \"四、上诉人何建铭犯污染环境罪，判处有期徒刑二年三个月，缓刑三年，并处罚金人民币四万元。\", \"（缓刑考验期限，从判决确定之日起计算。罚金已缴纳二万元，剩余罚金限在判决生效后一个月内一次性缴纳，逾期不缴纳的，强制缴纳。）\", \"本判决为终审判决。\"]\n",
      "[\" 一、撤销（2014）晋刑初字第2030号刑事判决。\", \"二、上诉人许某某犯污染环境罪，判处有期徒刑八个月，并处罚金人民币二万元。\", \"（刑期从判决执行之日起计算。判决执行以前先行羁押的，羁押一日折抵刑期一日，即自2014年6月9日起至2015年2月8日止。罚金应在本判决生效后十日内向原审法院缴纳。）\", \"本判决为终审判决。\"]\n",
      "[\" 一、撤销浙江省绍兴市上虞区人民法院（2016）浙0604刑初1047号刑事判决。\", \"二、上诉人顾东方犯污染环境罪，判处有期徒刑一年八个月，并处罚金人民币十五万元（刑期从判决执行之日起计算，判决执行以前先行羁押的，羁押一日折抵刑期一日，即自二〇一六年三月二十九日起至二〇一七年十一月二十八日止；罚金限本判决送达后十日内缴纳）。\", \"二、上诉人贾桦峰犯污染环境罪，判处有期徒刑一年七个月，并处罚金人民币五万元（刑期从判决执行之日起计算，判决执行以前先行羁押的，羁押一日折抵刑期一日，即自二〇一六年四月十一日起至二〇一七年十一月十日止；罚金限本判决送达后十日内缴纳）。\", \"三、原审被告单位杭州闻堰钢管有限公司犯污染环境罪，判处罚金人民币三十万元（罚金限判决送达后十日内缴纳）。\", \"四、上诉人张建明犯污染环境罪，判处有期徒刑七个月，并处罚金人民币五万元（刑期从判决执行之日起计算，判决执行以前先行羁押的，羁押一日折抵刑期一日，羁押期间取保候审的，刑期的终止日顺延，即自二〇一六年四月八日起至二〇一七年十一月十九日止；罚金限本判决送达后十日内缴纳）。\", \"五、上诉人吴国勇犯污染环境罪，判处有期徒刑七个月，并处罚金人民币五万元（刑期从判决执行之日起计算，判决执行以前先行羁押的，羁押一日折抵刑期一日，羁押期间取保候审的，刑期的终止日顺延，即自二〇一六年四月八日起至二〇一七年十一月十九日止；罚金限本判决送达后十日内缴纳）。\", \"本判决为终审判决。\"]\n"
     ]
    }
   ],
   "source": [
    "for i in cancel:\n",
    "    print(pollution_df[\"decision\"][i])"
   ]
  },
  {
   "cell_type": "code",
   "execution_count": 179,
   "metadata": {},
   "outputs": [
    {
     "data": {
      "text/plain": [
       "'[\" 驳回上诉，维持原判。\", \"本裁定为终审裁定。\"]'"
      ]
     },
     "execution_count": 179,
     "metadata": {},
     "output_type": "execute_result"
    }
   ],
   "source": [
    "decision_df[\"decision\"][37]"
   ]
  },
  {
   "cell_type": "code",
   "execution_count": 52,
   "metadata": {},
   "outputs": [],
   "source": [
    "pollution_df = pd.read_csv(\"pollution_data/pollution_original_parsed_utf-8.csv\")\n",
    "#pollution_df"
   ]
  },
  {
   "cell_type": "code",
   "execution_count": 180,
   "metadata": {},
   "outputs": [
    {
     "data": {
      "text/plain": [
       "' 黄某、刘某污染环境罪二审刑事裁定书\\n浙江省温州市中级人民法院\\n\\n\\n\\t刑 事 裁 定 书\\n\\n\\n\\t（2014）浙温刑终字第1144号\\n\\n\\n\\t原公诉机关浙江省温州市龙湾区人民检察院。\\n\\n\\n\\t上诉人（原审被告人）黄某。因本案于2014年3月12日被取保候审，同年7月15日再次被取保候审，同年8月20日被逮捕。现羁押于温州市看守所。\\n\\n\\n\\t辩护人张炘。\\n\\n\\n\\t上诉人（原审被告人）刘某。因本案于2014年2月27日被刑事拘留，同年3月21日被取保候审，同年7月15日再次被取保候审，同年8月20日被逮捕。现羁押于温州市看守所。\\n\\n\\n\\t辩护人白福阳。\\n\\n\\n\\t浙江省温州市龙湾区人民法院审理温州市龙湾区人民检察院指控原审被告人黄某、刘某犯污染环境罪一案，于2014年8月18日作出（2014）温龙刑初字第621号刑事判决。原审被告人黄某、刘某不服，提出上诉。本院依法组成合议庭，经过阅卷，讯问被告人，听取辩护人意见，认为事实清楚，决定不开庭审理。现已审理终结。\\n\\n\\n\\t原判认定，2014年2月20日，被告人黄某在温州市龙湾区永中街道郑宅村白水矿山边非法开设电镀厂，雇佣被告人刘某从事电镀加工，并直接排放未经处理的电镀废水。同月27日，该电镀厂被查获。经鉴定，该厂界外排放口废水中总铬含量为6350mg／l，超过国家排放标准三倍以上。浙江省环境保护厅对上述报告予以认可。\\n\\n\\n\\t2014年3月12日，被告人黄某向公安机关主动投案。同月18日，被告人黄某检举黄某某等人污染环境的犯罪线索，并协助公安机关将黄某某、冷某、蒋某某抓获。\\n\\n\\n\\t认定上述事实的证据有，被告人黄某、刘某的供述，辨认笔录，证人谢某的证言，现场勘验检查笔录、照片，调查报告，监测报告，检测报告，立功材料，归案经过及户籍证明等。\\n\\n\\n\\t原审法院以污染环境罪分别判处被告人黄某有期徒刑八个月，并处罚金人民币6000元；被告人刘某有期徒刑六个月，并处罚金人民币2000元。\\n\\n\\n\\t原审被告人黄某上诉及辩护人辩称，黄某系初犯、偶犯，犯罪情节轻微，有自首及立功情节，请求从轻改判并适用缓刑。原审被告人刘某上诉及辩护人辩称，刘某是务工者，系从犯，主观恶性小，有悔罪表现，请求二审从轻改判并适用缓刑。\\n\\n\\n\\t经二审审理查明的事实和证据与原审判决所认定的一致，本院予以确认。\\n\\n\\n\\t本院认为，上诉人黄某、刘某违反国家规定，擅自排放含重金属超标的废水，严重污染环境，其行为已构成污染环境罪。原判鉴于黄某有自首、立功情节，刘某系从犯、有坦白情节，均已给予从轻处罚。二上诉人请求改判理由不足，不予采纳。原审定罪准确，量刑适当，程序合法。据此，依照《中华人民共和国刑法》第三百三十八条，第二十五条第一款，第二十六条第一款，第二十七条，第六十八条，第六十七条第一、三款，最高人民法院、最高人民检察院《关于办理环境污染刑事案件适用法律若干问题的解释》第一条第（三）项、第十条第（三）项和《中华人民共和国刑事诉讼法》第二百二十五条第一款第（一）项之规定，裁定如下：\\n\\n\\n\\t驳回上诉，维持原判。\\n\\n\\n\\t本裁定为终审裁定。\\n\\n\\n\\t审\\u3000判\\u3000长\\u3000\\u3000郑\\u3000琼\\n\\n\\n\\t代理审判员\\u3000\\u3000占长斌\\n\\n\\n\\t代理审判员\\u3000\\u3000戴一威\\n\\n\\n\\t二〇一四年十月十六日\\n\\n\\n\\t代书\\u3000记员\\u3000\\u3000范程翔\\n '"
      ]
     },
     "execution_count": 180,
     "metadata": {},
     "output_type": "execute_result"
    }
   ],
   "source": [
    "pollution_df[\"originaltext\"][37]"
   ]
  },
  {
   "cell_type": "code",
   "execution_count": 70,
   "metadata": {},
   "outputs": [
    {
     "name": "stdout",
     "output_type": "stream",
     "text": [
      "[判决/vn, 如下/vi, ：/w, \n",
      "/w, ×/w, ×/w, 告/v, 人/n, 王/n, 某/rz, 犯/v, 污染/vn, 环境/n, 罪/n, ，/w, 判处/v, 有期徒刑/n, 一/m, 年/qt, ，/w, 并处/v, 罚金/n, 20000/m, 元/q, 。/w, \n",
      "/w, （/w, 刑期/n, 从/p, 判决/vn, 执行/v, 之日起/ns, 计算/v, ，/w, 判决/vn, 执行/v, 以前/f, 先行/vi, 羁押/v, 的/ude1, ，/w, 羁押/v, 一/m, 日/b, 折抵/nz, 刑期/n, 一/m, 日/b, ，/w, 即/v, 自/p, 2015/m, 年/qt, 7月/t, 2/m, 日/b, 起至/v, 2016/m, 年/qt, 7月/t, 1/m, 日/b, 止/v, ）/w, 。/w, \n",
      "/w, 如/v, 不服/v, 本/rz, 判决/vn, ，/w, 可/v, 在/p, 接到/v, 判决书/n, 的/ude1, 第二/mq, 日/b, 起/vf, 十/m, 日内/t, ，/w, 通过/p, 本院/n, 或者/c, 直接/ad, 向/p, 邯郸市中级人民法院/nt, 提出/v, 上诉/vn, 。/w, 书面/b, 上诉/vn, 的/ude1, ，/w, 应当/v, 提交/v, 上诉状/n, 正本/n, 一/m, 份/q, ，/w, 副本/n, 三份/nz, 。/w, \n",
      "/w, 审/v, 　/w, 判/v, 　/w, 长/a, 　　/w, 张宪锋/nr, \n",
      "/w, 审/v, 　/w, 判/v, 　/w, 员/ng, 　　/w, 刘钰娜/nr, \n",
      "/w, 人民陪审员/nnt, 　　/w, 赵小蕾/nr, \n",
      "/w, 二〇一六/m, 年/qt, 六月/t, 三/m, 日/b, \n",
      "/w, 书/n, 　/w, 记/v, 　/w, 员/ng, 　　/w, 李/ng, 　/w, 宁/ag, \n",
      "/w]\n"
     ]
    }
   ],
   "source": [
    "q = HanLP.segment(find_content(5734))\n",
    "print(q)"
   ]
  },
  {
   "cell_type": "code",
   "execution_count": 71,
   "metadata": {},
   "outputs": [
    {
     "data": {
      "text/plain": [
       "'判决如下：\\n××告人王某犯污染环境罪，判处有期徒刑一年，并处罚金20000元。\\n（刑期从判决执行之日起计算，判决执行以前先行羁押的，羁押一日折抵刑期一日，即自2015年7月2日起至2016年7月1日止）。\\n如不服本判决，可在接到判决书的第二日起十日内，通过本院或者直接向邯郸市中级人民法院提出上诉。书面上诉的，应当提交上诉状正本一份，副本三份。\\n审\\u3000判\\u3000长\\u3000\\u3000张宪锋\\n审\\u3000判\\u3000员\\u3000\\u3000刘钰娜\\n人民陪审员\\u3000\\u3000赵小蕾\\n二〇一六年六月三日\\n书\\u3000记\\u3000员\\u3000\\u3000李\\u3000宁\\n'"
      ]
     },
     "execution_count": 71,
     "metadata": {},
     "output_type": "execute_result"
    }
   ],
   "source": [
    "find_content(5734)"
   ]
  },
  {
   "cell_type": "code",
   "execution_count": 181,
   "metadata": {},
   "outputs": [
    {
     "data": {
      "text/plain": [
       "'[\" 驳回上诉，维持原判。\", \"本裁定为终审裁定。\"]'"
      ]
     },
     "execution_count": 181,
     "metadata": {},
     "output_type": "execute_result"
    }
   ],
   "source": [
    "pollution_df[\"decision\"][37]"
   ]
  },
  {
   "cell_type": "code",
   "execution_count": 285,
   "metadata": {},
   "outputs": [
    {
     "data": {
      "text/plain": [
       "281.6991976420501"
      ]
     },
     "execution_count": 285,
     "metadata": {},
     "output_type": "execute_result"
    }
   ],
   "source": [
    "# find average length of the decision column\n",
    "sum(pollution_df[\"decision\"].apply(len))/len(pollution_df[\"decision\"])"
   ]
  },
  {
   "cell_type": "code",
   "execution_count": 282,
   "metadata": {},
   "outputs": [
    {
     "data": {
      "text/plain": [
       "{'被告人': False,\n",
       " '单位': False,\n",
       " '有期徒刑': True,\n",
       " '罚金': True,\n",
       " '缓刑': True,\n",
       " '羁押': True,\n",
       " '拘役': True}"
      ]
     },
     "execution_count": 282,
     "metadata": {},
     "output_type": "execute_result"
    }
   ],
   "source": [
    "find_lst = {\"被告人\":True, \"单位\":True, \"有期徒刑\":True, \"罚金\":True, \n",
    "                        \"缓刑\":True, \"羁押\":True, \"拘役\":True}\n",
    "find_lst.update({\"被告人\":False, \"单位\":False})\n",
    "find_lst"
   ]
  },
  {
   "cell_type": "code",
   "execution_count": 283,
   "metadata": {},
   "outputs": [],
   "source": [
    "# helper function\n",
    "def extract_penalties(sentence, name, i, decision_dic, nature, find_lst, addition_nature=None):\n",
    "    \"\"\" Extract court decisions from decision column\"\"\"\n",
    "    k = i + 1\n",
    "    p = []\n",
    "    while k < len(sentence):\n",
    "        if addition_nature is None:\n",
    "            if (str(sentence.get(k).nature) == nature):\n",
    "                break\n",
    "            else:\n",
    "                p.append(sentence.get(k).word)\n",
    "        else:\n",
    "            if (str(sentence.get(k).nature) == nature) or (str(sentence.get(k).nature) == addition_nature):\n",
    "                break\n",
    "            else:\n",
    "                p.append(sentence.get(k).word)\n",
    "        k += 1\n",
    "    if len(p) > 0:\n",
    "        decision_dic[name] = \"\".join(p)\n",
    "    find_lst[name] = False\n",
    "    return find_lst, decision_dic\n",
    " \n",
    "def clean_penalties(s):\n",
    "    \"\"\"find all penalties from a single sentence\"\"\"\n",
    "    def find_penalties(decision):\n",
    "        decision_dic = {}\n",
    "        if (\"被告\" in decision):\n",
    "            sentence = HanLP.segment(decision)\n",
    "            find_lst = {\"被告人\":True, \"单位\":True, \"有期徒刑\":True, \"罚金\":True, \n",
    "                        \"缓刑\":True, \"羁押\":True, \"拘役\":True}\n",
    "            for i in range(len(sentence)):\n",
    "                # ignore special words (维持，驳回，撤销)\n",
    "                if (sentence.get(i).word == \"单位\") and (find_lst[\"单位\"]):\n",
    "                    find_lst, decision_dic = extract_penalties(sentence, \"被告单位\", i, decision_dic, \"v\", find_lst)\n",
    "                if (sentence.get(i).word == \"上诉人\") and (find_lst[\"被告人\"]):\n",
    "                    find_lst, decision_dic = extract_penalties(sentence, \"被告人\", i, decision_dic, \"v\", find_lst)    \n",
    "                if (sentence.get(i).word == \"被告人\") and (find_lst[\"被告人\"]):\n",
    "                    find_lst, decision_dic = extract_penalties(sentence, \"被告人\", i, decision_dic, \"v\", find_lst)\n",
    "                if (sentence.get(i).word == \"有期徒刑\") and (find_lst[\"有期徒刑\"]):\n",
    "                    find_lst, decision_dic = extract_penalties(sentence, \"有期徒刑\", i, decision_dic, \"w\", find_lst)\n",
    "                if (sentence.get(i).word == \"罚金\") and (find_lst[\"罚金\"]):\n",
    "                    find_lst, decision_dic = extract_penalties(sentence, \"罚金\", i, decision_dic, \"w\", find_lst)\n",
    "                if (sentence.get(i).word == \"处罚金\") and (find_lst[\"罚金\"]):\n",
    "                    find_lst, decision_dic = extract_penalties(sentence, \"处罚金\", i, decision_dic, \"w\", find_lst)\n",
    "                if (sentence.get(i).word == \"缓刑\") and (find_lst[\"缓刑\"]):\n",
    "                    find_lst, decision_dic = extract_penalties(sentence, \"缓刑\", i, decision_dic, \"w\", find_lst)    \n",
    "                if (sentence.get(i).word == \"羁押\") and (find_lst[\"羁押\"]):\n",
    "                    find_lst, decision_dic = extract_penalties(sentence, \"羁押\", i, decision_dic, \"w\", find_lst)    \n",
    "                if (sentence.get(i).word == \"拘役\") and (find_lst[\"拘役\"]):\n",
    "                    find_lst, decision_dic = extract_penalties(sentence, \"拘役\", i, decision_dic, \"w\", find_lst)    \n",
    "        return decision_dic\n",
    "    \n",
    "    sentence_lst = []\n",
    "    splitted = s.split(\"。\")\n",
    "    for i in splitted:\n",
    "        o = i.split(\"；\")\n",
    "        for j in o:\n",
    "            sentence_lst.append(j)\n",
    "    penalties = []\n",
    "#     if (\"维持\" in sentence) or (\"撤销\" in sentence) or (\"免予\" in test):\n",
    "#         return {}\n",
    "#     if (\"维持\" in s) or (\"撤销\" in s):\n",
    "#          return {}\n",
    "    for i in sentence_lst:\n",
    "        p = find_penalties(i)\n",
    "        if \"免予\" in i:\n",
    "            p[\"免予处罚\"] = True\n",
    "        if len(p) > 1:\n",
    "            penalties.append(p)\n",
    "    return penalties\n",
    "penalties = clean_penalties(sentence1)\n",
    "penalties\n",
    "\n",
    "def find_penalties(decision):\n",
    "        decision_dic = {}\n",
    "        if (\"被告\" in decision) or (\"上诉\" in decision):\n",
    "            sentence = HanLP.segment(decision)\n",
    "            find_lst = {\"被告人\":True, \"单位\":True, \"有期徒刑\":False, \"罚金\":False, \n",
    "                        \"缓刑\":False, \"羁押\":False, \"拘役\":False}\n",
    "            for i in range(len(sentence)):\n",
    "                # ignore special words (维持，驳回，撤销)\n",
    "                if (find_lst[\"单位\"]) and (sentence.get(i).word == \"单位\"):\n",
    "                    find_lst, decision_dic = extract_penalties(sentence, \"被告单位\", i, decision_dic, \"v\", find_lst)\n",
    "                    find_lst.update({\"有期徒刑\":True, \"罚金\":True, \"缓刑\":True, \n",
    "                                     \"羁押\":True, \"拘役\":True})\n",
    "                if (find_lst[\"被告人\"]) and (sentence.get(i).word == \"上诉人\"):\n",
    "                    find_lst, decision_dic = extract_penalties(sentence, \"被告人\", i, decision_dic, \"v\", find_lst)\n",
    "                    find_lst.update({\"有期徒刑\":True, \"罚金\":True, \"缓刑\":True, \n",
    "                                     \"羁押\":True, \"拘役\":True})\n",
    "                if (find_lst[\"被告人\"]) and (sentence.get(i).word == \"被告人\"):\n",
    "                    find_lst, decision_dic = extract_penalties(sentence, \"被告人\", i, decision_dic, \"v\", find_lst)\n",
    "                    find_lst.update({\"有期徒刑\":True, \"罚金\":True, \"缓刑\":True, \n",
    "                                     \"羁押\":True, \"拘役\":True})\n",
    "                if (find_lst[\"有期徒刑\"]) and (sentence.get(i).word == \"有期徒刑\"):\n",
    "                    find_lst, decision_dic = extract_penalties(sentence, \"有期徒刑\", i, decision_dic, \"w\", find_lst)\n",
    "                if (find_lst[\"罚金\"]) and (sentence.get(i).word == \"罚金\"):\n",
    "                    find_lst, decision_dic = extract_penalties(sentence, \"罚金\", i, decision_dic, \"w\", find_lst)\n",
    "                if (find_lst[\"罚金\"]) and (sentence.get(i).word == \"处罚金\"):\n",
    "                    find_lst, decision_dic = extract_penalties(sentence, \"处罚金\", i, decision_dic, \"w\", find_lst)\n",
    "                if (find_lst[\"缓刑\"]) and (sentence.get(i).word == \"缓刑\"):\n",
    "                    find_lst, decision_dic = extract_penalties(sentence, \"缓刑\", i, decision_dic, \"w\", find_lst)    \n",
    "                if (find_lst[\"羁押\"]) and (sentence.get(i).word == \"羁押\"):\n",
    "                    find_lst, decision_dic = extract_penalties(sentence, \"羁押\", i, decision_dic, \"w\", find_lst)    \n",
    "                if (find_lst[\"拘役\"]) and (sentence.get(i).word == \"拘役\"):\n",
    "                    find_lst, decision_dic = extract_penalties(sentence, \"拘役\", i, decision_dic, \"w\", find_lst)    \n",
    "        return decision_dic"
   ]
  },
  {
   "cell_type": "code",
   "execution_count": 284,
   "metadata": {},
   "outputs": [
    {
     "name": "stdout",
     "output_type": "stream",
     "text": [
      "[\" 一、撤销山东省鄄城县人民法院（2013）鄄刑初字第130号刑事判决。\", \"二、上诉人王某犯污染环境罪，判处有期徒刑二年六个月；\", \"（刑期从判决执行之日起计算，判决执行以前先行羁押的，羁押一日折抵刑期一日，即自2013年6月23日起至2015年12月22日止）\", \"上诉人史某犯污染环境罪，判处有期徒刑二年；\", \"（刑期从判决执行之日起计算，判决执行以前先行羁押的，羁押一日折抵刑期一日，即自2013年6月11日起至2015年6月10日止）\", \"上诉人冯某犯污染环境罪，判处有期徒刑二年。\", \"（刑期从判决执行之日起计算，判决执行以前先行羁押的，羁押一日折抵刑期一日，即自2013年4月12日起至2015年4月11日止）\", \"本判决为终审判决。\"]\n",
      "unique\n",
      "['[\" 一、撤销山东省鄄城县人民法院（2013）鄄刑初字第130号刑事判决', '\", \"二、上诉人王某犯污染环境罪，判处有期徒刑二年六个月', '\", \"（刑期从判决执行之日起计算，判决执行以前先行羁押的，羁押一日折抵刑期一日，即自2013年6月23日起至2015年12月22日止）\", \"上诉人史某犯污染环境罪，判处有期徒刑二年', '\", \"（刑期从判决执行之日起计算，判决执行以前先行羁押的，羁押一日折抵刑期一日，即自2013年6月11日起至2015年6月10日止）\", \"上诉人冯某犯污染环境罪，判处有期徒刑二年', '\", \"（刑期从判决执行之日起计算，判决执行以前先行羁押的，羁押一日折抵刑期一日，即自2013年4月12日起至2015年4月11日止）\", \"本判决为终审判决', '\"]']\n"
     ]
    },
    {
     "data": {
      "text/plain": [
       "[{'被告人': '王某', '有期徒刑': '二年六个月'},\n",
       " {'被告人': '史某', '有期徒刑': '二年'},\n",
       " {'被告人': '冯某', '有期徒刑': '二年'}]"
      ]
     },
     "execution_count": 284,
     "metadata": {},
     "output_type": "execute_result"
    }
   ],
   "source": [
    "#test = pollution_df[\"originaltext\"][37]\n",
    "test = pollution_df[\"decision\"][624]\n",
    "print(test)\n",
    "#print(\"被告\" in test)\n",
    "if (\"维持\" in test) or (\"驳回\" in test) or (\"撤销\" in test):\n",
    "        print(\"unique\")\n",
    "sentence = HanLP.segment(test)\n",
    "#print(sentence)\n",
    "#print(clean_penalties_without_delete(test))\n",
    "\n",
    "#sentence_lst = test.split(\"。\")\n",
    "sentence_lst = []\n",
    "splitted = test.split(\"。\")\n",
    "for i in splitted:\n",
    "    o = i.split(\"；\")\n",
    "    for j in o:\n",
    "        sentence_lst.append(j)\n",
    "penalties = []\n",
    "print(sentence_lst)\n",
    "for i in sentence_lst:\n",
    "    each = HanLP.segment(i)\n",
    "#     print(i)\n",
    "#     print(each)\n",
    "    p = find_penalties(i)\n",
    "#     print(p)\n",
    "    if len(p) > 1:\n",
    "        penalties.append(p)\n",
    "        #print(\"add\")\n",
    "penalties\n",
    "#print(sentence_lst)\n",
    "#splitted"
   ]
  },
  {
   "cell_type": "code",
   "execution_count": null,
   "metadata": {},
   "outputs": [],
   "source": [
    "# After I update the structure of find_penalties, \n",
    "# the unclassified case number increase from 230 to 236. \n",
    "# Maybe they are not correctly classified?"
   ]
  },
  {
   "cell_type": "code",
   "execution_count": null,
   "metadata": {},
   "outputs": [],
   "source": []
  },
  {
   "cell_type": "code",
   "execution_count": null,
   "metadata": {},
   "outputs": [],
   "source": []
  },
  {
   "cell_type": "code",
   "execution_count": 153,
   "metadata": {},
   "outputs": [],
   "source": [
    "def recurrence_count(df, column):\n",
    "    count = 0\n",
    "    past = []\n",
    "    for i in range(df.shape[0]):\n",
    "        n = decision_df.loc[i, column]\n",
    "        if n not in past:\n",
    "            past += [n]\n",
    "        else:\n",
    "            count += 1\n",
    "    return count"
   ]
  },
  {
   "cell_type": "code",
   "execution_count": 154,
   "metadata": {},
   "outputs": [
    {
     "name": "stdout",
     "output_type": "stream",
     "text": [
      "pid count:  0 case count:  4383 title count:  1358\n"
     ]
    }
   ],
   "source": [
    "print(\n",
    "\"pid count:  \" + str(recurrence_count(decision_df, \"pid\")),\n",
    "\"case count:  \" + str(recurrence_count(decision_df, \"case_number_id\")),\n",
    "\"title count:  \" + str(recurrence_count(decision_df, \"title\"))\n",
    ")"
   ]
  },
  {
   "cell_type": "code",
   "execution_count": 159,
   "metadata": {},
   "outputs": [],
   "source": [
    "# group by case_number_id\n",
    "case_decision = decision_df.loc[:,[\"case_number_id\"]]\n",
    "group_by_case = case_decision.groupby([\"case_number_id\"]).size().reset_index()\n",
    "group_by_case.columns = ['case_number_id', \"count\"]"
   ]
  },
  {
   "cell_type": "code",
   "execution_count": 160,
   "metadata": {
    "scrolled": true
   },
   "outputs": [
    {
     "data": {
      "text/html": [
       "<div>\n",
       "<style scoped>\n",
       "    .dataframe tbody tr th:only-of-type {\n",
       "        vertical-align: middle;\n",
       "    }\n",
       "\n",
       "    .dataframe tbody tr th {\n",
       "        vertical-align: top;\n",
       "    }\n",
       "\n",
       "    .dataframe thead th {\n",
       "        text-align: right;\n",
       "    }\n",
       "</style>\n",
       "<table border=\"1\" class=\"dataframe\">\n",
       "  <thead>\n",
       "    <tr style=\"text-align: right;\">\n",
       "      <th></th>\n",
       "      <th>case_number_id</th>\n",
       "      <th>count</th>\n",
       "    </tr>\n",
       "  </thead>\n",
       "  <tbody>\n",
       "    <tr>\n",
       "      <th>0</th>\n",
       "      <td>00001</td>\n",
       "      <td>9</td>\n",
       "    </tr>\n",
       "    <tr>\n",
       "      <th>1</th>\n",
       "      <td>00002</td>\n",
       "      <td>8</td>\n",
       "    </tr>\n",
       "    <tr>\n",
       "      <th>2</th>\n",
       "      <td>00003</td>\n",
       "      <td>6</td>\n",
       "    </tr>\n",
       "    <tr>\n",
       "      <th>3</th>\n",
       "      <td>00004</td>\n",
       "      <td>6</td>\n",
       "    </tr>\n",
       "    <tr>\n",
       "      <th>4</th>\n",
       "      <td>00005</td>\n",
       "      <td>4</td>\n",
       "    </tr>\n",
       "    <tr>\n",
       "      <th>5</th>\n",
       "      <td>00006</td>\n",
       "      <td>3</td>\n",
       "    </tr>\n",
       "    <tr>\n",
       "      <th>6</th>\n",
       "      <td>00007</td>\n",
       "      <td>1</td>\n",
       "    </tr>\n",
       "    <tr>\n",
       "      <th>7</th>\n",
       "      <td>00008</td>\n",
       "      <td>2</td>\n",
       "    </tr>\n",
       "    <tr>\n",
       "      <th>8</th>\n",
       "      <td>00009</td>\n",
       "      <td>4</td>\n",
       "    </tr>\n",
       "    <tr>\n",
       "      <th>9</th>\n",
       "      <td>0001</td>\n",
       "      <td>9</td>\n",
       "    </tr>\n",
       "    <tr>\n",
       "      <th>10</th>\n",
       "      <td>00010</td>\n",
       "      <td>2</td>\n",
       "    </tr>\n",
       "    <tr>\n",
       "      <th>11</th>\n",
       "      <td>00011</td>\n",
       "      <td>1</td>\n",
       "    </tr>\n",
       "    <tr>\n",
       "      <th>12</th>\n",
       "      <td>00012</td>\n",
       "      <td>1</td>\n",
       "    </tr>\n",
       "    <tr>\n",
       "      <th>13</th>\n",
       "      <td>00015</td>\n",
       "      <td>1</td>\n",
       "    </tr>\n",
       "    <tr>\n",
       "      <th>14</th>\n",
       "      <td>00019</td>\n",
       "      <td>1</td>\n",
       "    </tr>\n",
       "    <tr>\n",
       "      <th>15</th>\n",
       "      <td>000197</td>\n",
       "      <td>1</td>\n",
       "    </tr>\n",
       "    <tr>\n",
       "      <th>16</th>\n",
       "      <td>0002</td>\n",
       "      <td>5</td>\n",
       "    </tr>\n",
       "    <tr>\n",
       "      <th>17</th>\n",
       "      <td>00020</td>\n",
       "      <td>1</td>\n",
       "    </tr>\n",
       "    <tr>\n",
       "      <th>18</th>\n",
       "      <td>00021</td>\n",
       "      <td>1</td>\n",
       "    </tr>\n",
       "    <tr>\n",
       "      <th>19</th>\n",
       "      <td>00022</td>\n",
       "      <td>1</td>\n",
       "    </tr>\n",
       "    <tr>\n",
       "      <th>20</th>\n",
       "      <td>00023</td>\n",
       "      <td>3</td>\n",
       "    </tr>\n",
       "    <tr>\n",
       "      <th>21</th>\n",
       "      <td>00024</td>\n",
       "      <td>2</td>\n",
       "    </tr>\n",
       "    <tr>\n",
       "      <th>22</th>\n",
       "      <td>00025</td>\n",
       "      <td>1</td>\n",
       "    </tr>\n",
       "    <tr>\n",
       "      <th>23</th>\n",
       "      <td>00026</td>\n",
       "      <td>1</td>\n",
       "    </tr>\n",
       "    <tr>\n",
       "      <th>24</th>\n",
       "      <td>00027</td>\n",
       "      <td>1</td>\n",
       "    </tr>\n",
       "    <tr>\n",
       "      <th>25</th>\n",
       "      <td>0003</td>\n",
       "      <td>4</td>\n",
       "    </tr>\n",
       "    <tr>\n",
       "      <th>26</th>\n",
       "      <td>00032</td>\n",
       "      <td>1</td>\n",
       "    </tr>\n",
       "    <tr>\n",
       "      <th>27</th>\n",
       "      <td>00033</td>\n",
       "      <td>1</td>\n",
       "    </tr>\n",
       "    <tr>\n",
       "      <th>28</th>\n",
       "      <td>00034</td>\n",
       "      <td>3</td>\n",
       "    </tr>\n",
       "    <tr>\n",
       "      <th>29</th>\n",
       "      <td>00036</td>\n",
       "      <td>2</td>\n",
       "    </tr>\n",
       "    <tr>\n",
       "      <th>...</th>\n",
       "      <td>...</td>\n",
       "      <td>...</td>\n",
       "    </tr>\n",
       "    <tr>\n",
       "      <th>1693</th>\n",
       "      <td>955</td>\n",
       "      <td>2</td>\n",
       "    </tr>\n",
       "    <tr>\n",
       "      <th>1694</th>\n",
       "      <td>956</td>\n",
       "      <td>5</td>\n",
       "    </tr>\n",
       "    <tr>\n",
       "      <th>1695</th>\n",
       "      <td>957</td>\n",
       "      <td>4</td>\n",
       "    </tr>\n",
       "    <tr>\n",
       "      <th>1696</th>\n",
       "      <td>959</td>\n",
       "      <td>1</td>\n",
       "    </tr>\n",
       "    <tr>\n",
       "      <th>1697</th>\n",
       "      <td>96</td>\n",
       "      <td>17</td>\n",
       "    </tr>\n",
       "    <tr>\n",
       "      <th>1698</th>\n",
       "      <td>960</td>\n",
       "      <td>2</td>\n",
       "    </tr>\n",
       "    <tr>\n",
       "      <th>1699</th>\n",
       "      <td>961</td>\n",
       "      <td>3</td>\n",
       "    </tr>\n",
       "    <tr>\n",
       "      <th>1700</th>\n",
       "      <td>962</td>\n",
       "      <td>2</td>\n",
       "    </tr>\n",
       "    <tr>\n",
       "      <th>1701</th>\n",
       "      <td>965</td>\n",
       "      <td>3</td>\n",
       "    </tr>\n",
       "    <tr>\n",
       "      <th>1702</th>\n",
       "      <td>966</td>\n",
       "      <td>1</td>\n",
       "    </tr>\n",
       "    <tr>\n",
       "      <th>1703</th>\n",
       "      <td>967</td>\n",
       "      <td>2</td>\n",
       "    </tr>\n",
       "    <tr>\n",
       "      <th>1704</th>\n",
       "      <td>968</td>\n",
       "      <td>1</td>\n",
       "    </tr>\n",
       "    <tr>\n",
       "      <th>1705</th>\n",
       "      <td>97</td>\n",
       "      <td>10</td>\n",
       "    </tr>\n",
       "    <tr>\n",
       "      <th>1706</th>\n",
       "      <td>972</td>\n",
       "      <td>1</td>\n",
       "    </tr>\n",
       "    <tr>\n",
       "      <th>1707</th>\n",
       "      <td>978</td>\n",
       "      <td>1</td>\n",
       "    </tr>\n",
       "    <tr>\n",
       "      <th>1708</th>\n",
       "      <td>98</td>\n",
       "      <td>5</td>\n",
       "    </tr>\n",
       "    <tr>\n",
       "      <th>1709</th>\n",
       "      <td>982</td>\n",
       "      <td>1</td>\n",
       "    </tr>\n",
       "    <tr>\n",
       "      <th>1710</th>\n",
       "      <td>983</td>\n",
       "      <td>3</td>\n",
       "    </tr>\n",
       "    <tr>\n",
       "      <th>1711</th>\n",
       "      <td>984</td>\n",
       "      <td>1</td>\n",
       "    </tr>\n",
       "    <tr>\n",
       "      <th>1712</th>\n",
       "      <td>985</td>\n",
       "      <td>1</td>\n",
       "    </tr>\n",
       "    <tr>\n",
       "      <th>1713</th>\n",
       "      <td>987</td>\n",
       "      <td>1</td>\n",
       "    </tr>\n",
       "    <tr>\n",
       "      <th>1714</th>\n",
       "      <td>989</td>\n",
       "      <td>1</td>\n",
       "    </tr>\n",
       "    <tr>\n",
       "      <th>1715</th>\n",
       "      <td>99</td>\n",
       "      <td>9</td>\n",
       "    </tr>\n",
       "    <tr>\n",
       "      <th>1716</th>\n",
       "      <td>990</td>\n",
       "      <td>1</td>\n",
       "    </tr>\n",
       "    <tr>\n",
       "      <th>1717</th>\n",
       "      <td>992</td>\n",
       "      <td>1</td>\n",
       "    </tr>\n",
       "    <tr>\n",
       "      <th>1718</th>\n",
       "      <td>993</td>\n",
       "      <td>1</td>\n",
       "    </tr>\n",
       "    <tr>\n",
       "      <th>1719</th>\n",
       "      <td>994</td>\n",
       "      <td>2</td>\n",
       "    </tr>\n",
       "    <tr>\n",
       "      <th>1720</th>\n",
       "      <td>995</td>\n",
       "      <td>1</td>\n",
       "    </tr>\n",
       "    <tr>\n",
       "      <th>1721</th>\n",
       "      <td>997</td>\n",
       "      <td>1</td>\n",
       "    </tr>\n",
       "    <tr>\n",
       "      <th>1722</th>\n",
       "      <td>998</td>\n",
       "      <td>6</td>\n",
       "    </tr>\n",
       "  </tbody>\n",
       "</table>\n",
       "<p>1723 rows × 2 columns</p>\n",
       "</div>"
      ],
      "text/plain": [
       "     case_number_id  count\n",
       "0             00001      9\n",
       "1             00002      8\n",
       "2             00003      6\n",
       "3             00004      6\n",
       "4             00005      4\n",
       "5             00006      3\n",
       "6             00007      1\n",
       "7             00008      2\n",
       "8             00009      4\n",
       "9              0001      9\n",
       "10            00010      2\n",
       "11            00011      1\n",
       "12            00012      1\n",
       "13            00015      1\n",
       "14            00019      1\n",
       "15           000197      1\n",
       "16             0002      5\n",
       "17            00020      1\n",
       "18            00021      1\n",
       "19            00022      1\n",
       "20            00023      3\n",
       "21            00024      2\n",
       "22            00025      1\n",
       "23            00026      1\n",
       "24            00027      1\n",
       "25             0003      4\n",
       "26            00032      1\n",
       "27            00033      1\n",
       "28            00034      3\n",
       "29            00036      2\n",
       "...             ...    ...\n",
       "1693            955      2\n",
       "1694            956      5\n",
       "1695            957      4\n",
       "1696            959      1\n",
       "1697             96     17\n",
       "1698            960      2\n",
       "1699            961      3\n",
       "1700            962      2\n",
       "1701            965      3\n",
       "1702            966      1\n",
       "1703            967      2\n",
       "1704            968      1\n",
       "1705             97     10\n",
       "1706            972      1\n",
       "1707            978      1\n",
       "1708             98      5\n",
       "1709            982      1\n",
       "1710            983      3\n",
       "1711            984      1\n",
       "1712            985      1\n",
       "1713            987      1\n",
       "1714            989      1\n",
       "1715             99      9\n",
       "1716            990      1\n",
       "1717            992      1\n",
       "1718            993      1\n",
       "1719            994      2\n",
       "1720            995      1\n",
       "1721            997      1\n",
       "1722            998      6\n",
       "\n",
       "[1723 rows x 2 columns]"
      ]
     },
     "execution_count": 160,
     "metadata": {},
     "output_type": "execute_result"
    }
   ],
   "source": [
    "group_by_case"
   ]
  },
  {
   "cell_type": "code",
   "execution_count": 168,
   "metadata": {},
   "outputs": [],
   "source": [
    "# save as dict, if same case id \n",
    "\n",
    "case_dict = {}\n",
    "\n",
    "for i in range(decision_df.shape[0]):\n",
    "    case_number = decision_df.loc[i, \"case_number_id\"]\n",
    "    case_decision = decision_df.loc[i, \"decision\"]\n",
    "    if case_number in case_dict:\n",
    "        case_dict[case_number] += [case_decision]\n",
    "    else:\n",
    "        case_dict[case_number] = [case_decision]"
   ]
  },
  {
   "cell_type": "code",
   "execution_count": null,
   "metadata": {},
   "outputs": [],
   "source": []
  }
 ],
 "metadata": {
  "kernelspec": {
   "display_name": "Python 3",
   "language": "python",
   "name": "python3"
  },
  "language_info": {
   "codemirror_mode": {
    "name": "ipython",
    "version": 3
   },
   "file_extension": ".py",
   "mimetype": "text/x-python",
   "name": "python",
   "nbconvert_exporter": "python",
   "pygments_lexer": "ipython3",
   "version": "3.7.3"
  }
 },
 "nbformat": 4,
 "nbformat_minor": 2
}
