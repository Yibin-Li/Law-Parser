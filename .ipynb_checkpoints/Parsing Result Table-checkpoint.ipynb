{
 "cells": [
  {
   "cell_type": "code",
   "execution_count": 346,
   "metadata": {},
   "outputs": [],
   "source": [
    "import pickle\n",
    "import numpy as np\n",
    "import pandas as pd\n",
    "import matplotlib.pyplot as plt\n",
    "from scipy import stats\n",
    "\n",
    "import random\n",
    "import os\n",
    "\n",
    "from collections import Counter"
   ]
  },
  {
   "cell_type": "markdown",
   "metadata": {},
   "source": [
    "Go to <a href=#bookmark>where you left last time</a>"
   ]
  },
  {
   "cell_type": "markdown",
   "metadata": {},
   "source": [
    "## Index"
   ]
  },
  {
   "cell_type": "markdown",
   "metadata": {},
   "source": [
    "##### Find each penaties\n",
    "<a href=#find_penalties>click here</a>\n",
    "##### Data Analysis\n",
    "<a href=#data_analysis>click here</a>"
   ]
  },
  {
   "cell_type": "code",
   "execution_count": 273,
   "metadata": {},
   "outputs": [
    {
     "name": "stdout",
     "output_type": "stream",
     "text": [
      "all data loaded\n"
     ]
    }
   ],
   "source": [
    "# load data\n",
    "data = pickle.load(open(\"data.p\", \"rb\"))\n",
    "print(\"all data loaded\")"
   ]
  },
  {
   "cell_type": "code",
   "execution_count": 274,
   "metadata": {},
   "outputs": [
    {
     "name": "stderr",
     "output_type": "stream",
     "text": [
      "/Users/lyb/anaconda3/lib/python3.7/site-packages/IPython/core/interactiveshell.py:3049: DtypeWarning: Columns (6,35,38,41,44) have mixed types. Specify dtype option on import or set low_memory=False.\n",
      "  interactivity=interactivity, compiler=compiler, result=result)\n"
     ]
    }
   ],
   "source": [
    "# load occupation data\n",
    "occupation_df = pd.read_csv('./pollution_data/pollution_utf-8.csv')\n",
    "pollution_df = pd.read_csv(\"pollution_data/pollution_original_parsed_utf-8.csv\")\n",
    "#occupation_df"
   ]
  },
  {
   "cell_type": "code",
   "execution_count": 275,
   "metadata": {},
   "outputs": [],
   "source": [
    "# case pid that needs to replace decision with original text\n",
    "pid_to_clean = [16751486, 16779869, 17833099, 17260078, 16386368, 17854723, 18204393, \n",
    "                18121686, 16303999, 17880549, 16747969, 18556108, 17768986, 18272068, \n",
    "                17861588, 18236528, 16804369, 15805924, 16130419, 16804391, 17854920, \n",
    "                17892883, 16548949, 17726535, 17854769, 16937371, 17553407, 16477400, \n",
    "                18572909, 18121842, 17386832, 16307963, 17529776, 16141091, 18477846, \n",
    "                17606712, 17854856, 17768951, 17880547, 17386846, 16553356, 17854790, \n",
    "                15860598, 17768960, 16849436, 16493115, 17052388, 16779865, 15823719, \n",
    "                16227663, 17886537, 16477403, 18140376, 17821706, 16477406, 16937390, \n",
    "                16307954, 17553385, 16660047, 17260036, 17914091, 17415352, 17304043, \n",
    "                18103239, 17854928, 18103241, 17306733, 17387706, 16331678, 17529734, \n",
    "                17750527, 17212316, 18384178, 15874788, 16139252, 18607358, 18244282, \n",
    "                17133279, 15770529, 16906424, 17212320, 17013875, 18579602, 18384259, \n",
    "                16933713, 18384233, 16141066, 15665506, 16227662, 17854724, 18477972, \n",
    "                17529786, 18616041, 16639859, 17726475, 16954556, 17386840, 15867510, \n",
    "                15947032, 16472935, 17283491, 18600670, 17744828, 17750524, 16384480, \n",
    "                17744821, 16283346, 17576548, 16623283, 16384463, 15743182, 16187206, \n",
    "                17833100, 12003946, 17854738, 32702019, 16933708, 17052392, 17201601, \n",
    "                17760836, 17133297, 16583857, 18616103, 17216802, 16933706, 18477449, \n",
    "                18280074, 16278671, 18121802, 16141081, 18555980, 16682434, 16747976, \n",
    "                17212319, 8768242, 16369286, 19218472, 18317916, 16620991, 17386852, \n",
    "                16227639, 17756807, 18121820, 18280087, 16141076, 17892881, 17149624, \n",
    "                16883103, 16221127, 20637568, 27792714, 13616933, 12854287, 37512194, \n",
    "                27792690, 22353736, 34676864, 40570986, 27540145, 28840314, 22442625, \n",
    "                18600674, 27321501, 18887066, 28748106, 28690224, 15949875, 26432778, \n",
    "                22102978, 28927760, 3695664, 20425414, 17013718, 27136340, 28690228, \n",
    "                11894141, 27321503, 18883850, 27334783, 26048728, 5477154, 22139672, \n",
    "                16923148, 26432777]"
   ]
  },
  {
   "cell_type": "markdown",
   "metadata": {},
   "source": [
    "---\n",
    "## Find occupation of defendents (if data avialable)"
   ]
  },
  {
   "cell_type": "code",
   "execution_count": 276,
   "metadata": {},
   "outputs": [],
   "source": [
    "def index_clean():\n",
    "    \"\"\"index that needs to be replaceed by original decision text\"\"\"\n",
    "    index_to_fill_1 = [37, 122, 176, 224, 230, 235, 240, 259, 283, 286, 296, 336, 352, \n",
    "                 353, 403, 439, 486, 505, 506, 567, 709, 767, 771, 798, 857, 869, \n",
    "                 874, 928, 984, 1024, 1100, 1135, 1155, 1158, 1207, 1233, 1276, \n",
    "                 1297, 1298, 1326, 1376, 1389, 1400, 1511, 1536, 1543, 1584, 1634, \n",
    "                 1648, 1693, 1717, 1746, 1761, 1782, 1808, 1812, 1873, 1904, 1905, \n",
    "                 1919, 1985, 1994, 2012, 2035, 2045, 2072, 2089, 2149, 2184, 2212, \n",
    "                 2250, 2276, 2366, 2407, 2422, 2428, 2483, 2484, 2491, 2564, 2591, \n",
    "                 2603, 2673, 2680, 2691, 2719, 2726, 2727, 2743, 2779, 2780, 2791, \n",
    "                 2826, 2839, 2916, 2950, 3041, 3055, 3110, 3168, 3169, 3257, 3262, \n",
    "                 3263, 3288, 3292, 3430, 3487, 3505, 3541, 3563, 3592, 3629, 3681, \n",
    "                 3780, 3795, 3822, 3838, 3893, 3897, 3906, 3907, 3923, 3991, 4011, \n",
    "                 4032, 4033, 4056, 4076, 4127, 4288, 4319, 4479, 4604, 4625, 4639, \n",
    "                 4770, 4800, 4849, 4852, 4940, 4991, 5000, 5013, 5021, 5065, 5182, \n",
    "                 5317, 5331, 5345, 5494, 5556, 5559, 5652, 5680, 5696, 5697, 5948, \n",
    "                 5950, 5965, 5979, 6021, 6033, 6044, 6059, 6089]\n",
    "    index_to_fill_2 = [52, 57, 735, 1437, 1523, 1996, 2039, 2630, 3147, 5088, 5688, 5734]\n",
    "    index_to_fill_3 = [115, 322, 326, 762, 1040, 1553, 1661, 1667, 2279, \n",
    "                       2444, 2561, 2659, 2776, 2781, 3602, 3834, 4115, 4382, 4398, \n",
    "                       4415, 4529, 4709, 4934, 5022, 5511, 5631, 5694, 5923]\n",
    "    return index_to_fill_1 + index_to_fill_2 + index_to_fill_3\n",
    "\n",
    "index_cleaned = index_clean()"
   ]
  },
  {
   "cell_type": "code",
   "execution_count": 328,
   "metadata": {},
   "outputs": [],
   "source": [
    "# for cases in data:\n",
    "#     for decision in cases:\n",
    "#         decision_lst = list(decision.keys())\n",
    "#         try:\n",
    "#             defendent = decision['被告人']\n",
    "#         except:\n",
    "#             defendent = None\n",
    "#         for penalty in decision_lst:\n",
    "#             if penalty == 'pid' and defendent is not None:\n",
    "#                 row = occupation_df.loc[(occupation_df['Id'] == decision[penalty]) & (occupation_df['Name'] == defendent)]['Position'].dropna()\n",
    "#                 if len(row) > 0:\n",
    "#                     occupation = row.iloc[0]\n",
    "#                     decision['职业'] = occupation\n",
    "# data"
   ]
  },
  {
   "cell_type": "code",
   "execution_count": 278,
   "metadata": {},
   "outputs": [],
   "source": [
    "# import pickle\n",
    "# pickle.dump(data, open(\"data.p\", \"wb\"))\n",
    "# print(\"data saved\")"
   ]
  },
  {
   "cell_type": "markdown",
   "metadata": {},
   "source": [
    "---\n",
    " <a name='find_penalties'/>"
   ]
  },
  {
   "cell_type": "markdown",
   "metadata": {},
   "source": [
    "## Find each penalties"
   ]
  },
  {
   "cell_type": "code",
   "execution_count": 326,
   "metadata": {},
   "outputs": [],
   "source": [
    "imprisonment = []\n",
    "detention = []\n",
    "suspended = []\n",
    "fines = []\n",
    "imprisonment_count = 0\n",
    "detention_count = 0\n",
    "suspended_count = 0\n",
    "fines_count = 0\n",
    "\n",
    "total_count = 0\n",
    "\n",
    "for cases in data:\n",
    "    for decision in cases:\n",
    "        decision_lst = list(decision.keys())\n",
    "        for penalty in decision_lst:\n",
    "#             print(penalty)\n",
    "#             print(decision[penalty])\n",
    "#             print(penalty == \"有期徒刑\")\n",
    "            if (penalty == \"免予处罚\") and (decision[penalty]):\n",
    "                pass\n",
    "            elif penalty == \"有期徒刑\":\n",
    "                imprisonment.append(decision[penalty])\n",
    "                imprisonment_count += 1\n",
    "                total_count += 1\n",
    "            elif penalty == \"罚金\":\n",
    "                fines.append(decision[penalty])\n",
    "                fines_count += 1\n",
    "                total_count += 1\n",
    "            elif penalty == \"缓刑\":\n",
    "                suspended.append(decision[penalty])\n",
    "                suspended_count += 1\n",
    "                total_count += 1\n",
    "            elif penalty == \"拘役\":\n",
    "                detention.append(decision[penalty])\n",
    "                detention_count += 1\n",
    "                total_count += 1\n",
    "# print(imprisonment)\n",
    "# print()\n",
    "# print(detention)\n",
    "# print()\n",
    "# print(suspended)\n",
    "# print()\n",
    "# print(fines)"
   ]
  },
  {
   "cell_type": "code",
   "execution_count": 327,
   "metadata": {},
   "outputs": [],
   "source": [
    "# create character number to int number dictionary\n",
    "char = [\"零\", \"一\", \"二\", \"三\", \"四\", \"五\", \"六\", \"七\", \"八\", \"九\", \"十\"]\n",
    "char_sub = [\"壹\", \"贰\", \"叁\", \"肆\", \"伍\", \"陆\", \"柒\", \"捌\", \"玖\", \"拾\"]\n",
    "char_num = [\"0\", \"1\", \"2\", \"3\", \"4\", \"5\", \"6\", \"7\", \"8\", \"9\", \"10\"]\n",
    "char2num_sub = dict([(value, key+1) for key, value in dict(enumerate(char_sub)).items()])\n",
    "char2num = dict([(value, key) for key, value in dict(enumerate(char)).items()])\n",
    "char2num_num = dict([(value, key) for key, value in dict(enumerate(char_num)).items()])\n",
    "char2num[\"两\"] = 2\n",
    "char2num[\"万\"] = 10000\n",
    "char2num[\"千\"] = 1000\n",
    "char2num[\"仟\"] = 1000\n",
    "char2num[\"百\"] = 100\n",
    "char2num.update(char2num_sub)\n",
    "char2num.update(char2num_num)\n",
    "# char2num"
   ]
  },
  {
   "cell_type": "code",
   "execution_count": 283,
   "metadata": {},
   "outputs": [],
   "source": [
    "def find_year_month(i):\n",
    "    year_num, month_num = 0, 0\n",
    "    try:\n",
    "        if \"缓刑\" in i:\n",
    "            decision = i.split(\"缓刑\")[1]\n",
    "        else:\n",
    "            decision = i\n",
    "        if (\"年\" in decision) and (\"月\" in decision):\n",
    "            # convert string to list, and iterate the list to find year number\n",
    "            year_char = decision.split(\"年\")[0]\n",
    "            if len(year_char) > 1:\n",
    "                raise ValueError('year_char is more then 10 years')\n",
    "            for k in list(year_char):\n",
    "                year_num += char2num[k]\n",
    "\n",
    "            # same idea as above, find month number\n",
    "            month_char = decision.split(\"年\")[1].split(\"月\")[0]\n",
    "            month_char = month_char.split(\"个\")[0]\n",
    "            for j in list(month_char):\n",
    "                month_num += char2num[j]\n",
    "        elif (\"年\" in decision) and (\"月\" not in decision):\n",
    "            year_char = decision.split(\"年\")[0]\n",
    "            if len(year_char) > 1:\n",
    "                raise ValueError('year_char is more then 10 years')\n",
    "            for k in list(year_char):\n",
    "                year_num += char2num[k]\n",
    "        elif (\"年\" not in decision) and (\"月\" in decision):\n",
    "            month_char = decision.split(\"月\")[0]\n",
    "            month_char = month_char.split(\"个\")[0]\n",
    "            # handle string integer\n",
    "            try:\n",
    "                month_num = int(month_char)\n",
    "            except:\n",
    "                for j in list(month_char):\n",
    "                    month_num += char2num[j]\n",
    "    except:\n",
    "        pass\n",
    "    return {'year':year_num, 'month':month_num}"
   ]
  },
  {
   "cell_type": "code",
   "execution_count": 284,
   "metadata": {},
   "outputs": [],
   "source": [
    "#fines"
   ]
  },
  {
   "cell_type": "code",
   "execution_count": 285,
   "metadata": {},
   "outputs": [],
   "source": [
    "def find_detention(i):\n",
    "    month_num, day_num = 0, 0\n",
    "    try:\n",
    "        if \"缓刑\" in i:\n",
    "            decision = i.split(\"缓刑\")[0]\n",
    "        else:\n",
    "            decision = i\n",
    "        if \"月\" in decision:\n",
    "            # convert string to list, and iterate the list to find month number\n",
    "            month_char = decision.split(\"月\")[0]\n",
    "            month_char = month_char.split(\"个\")[0]\n",
    "            for k in list(month_char):\n",
    "                month_num += char2num[k]\n",
    "                \n",
    "            # same idea as above, find day number\n",
    "            if \"天\" in decision:\n",
    "                day_char = decision.split(\"月\")[1].split(\"天\")[0]\n",
    "                for j in list(day_char):\n",
    "                    day_num += char2num[j]\n",
    "            elif \"日\" in decision:\n",
    "                day_char = decision.split(\"月\")[1].split(\"日\")[0]\n",
    "                for j in list(day_char):\n",
    "                    day_num += char2num[j]\n",
    "        elif (\"天\" in decision) and (\"月\" not in decision):\n",
    "            day_char = decision.split(\"月\")[1].split(\"天\")[0]\n",
    "            for j in list(day_char):\n",
    "                day_num += char2num[j]\n",
    "        elif (\"日\" in decision) and (\"月\" not in decision):\n",
    "            day_char = day_char.split(\"日\")[0]\n",
    "            for j in list(day_char):\n",
    "                day_num += char2num[j]\n",
    "#             # handle integer string\n",
    "#             try:\n",
    "#                 month_num = int(month_char)\n",
    "#             except:\n",
    "#                 for j in list(month_char):\n",
    "#                     month_num += char2num[j]\n",
    "    except:\n",
    "        pass\n",
    "    return {'month':month_num, 'day':day_num}"
   ]
  },
  {
   "cell_type": "code",
   "execution_count": 286,
   "metadata": {},
   "outputs": [],
   "source": [
    "# chinese2digits credit to zhengdan66\n",
    "def chinese2digits(uchars_chinese):\n",
    "    total = 0\n",
    "    r = 1 \n",
    "    for i in range(len(uchars_chinese) - 1, -1, -1):\n",
    "        val = char2num.get(uchars_chinese[i])\n",
    "        if val >= 10 and i == 0:  \n",
    "            if val > r:\n",
    "                r = val\n",
    "                total = total + val\n",
    "            else:\n",
    "                r = r * val\n",
    "                # total =total + r * x\n",
    "        elif val >= 10:\n",
    "            if val > r:\n",
    "                r = val\n",
    "            else:\n",
    "                r = r * val\n",
    "        else:\n",
    "            total = total + r * val\n",
    "    return total\n",
    "\n",
    "def find_fines(i):\n",
    "    fine_num = 0\n",
    "    if \"元\" in i:\n",
    "        if \"人民币\" in i:\n",
    "            fine_char = i.split(\"人民币\")[1]\n",
    "        elif \"人民\" in i:\n",
    "            fine_char = i.split(\"人民\")[1]\n",
    "        elif \"共计\" in i:\n",
    "            fine_char = i.split(\"共计\")[1]\n",
    "        else:\n",
    "            fine_char = i\n",
    "        fine_char = fine_char.split(\"元\")[0]\n",
    "        if \",\" in fine_char:\n",
    "                fine_char = fine_char.split(\",\")\n",
    "                fine_char = \"\".join(fine_char)\n",
    "        if \".\" in fine_char:\n",
    "            if fine_char[-1] != '万':\n",
    "                fine_char = fine_char.split(\".\")[0]\n",
    "            else:\n",
    "                fine_char = float(fine_char[:len(fine_char)-1])*10000\n",
    "\n",
    "        # handle integer string\n",
    "        try:\n",
    "            fine_num = int(fine_char)\n",
    "        except:\n",
    "            if (fine_char is not \"\") and (fine_char[-1] == '万'):\n",
    "                fine_num = 10000*(chinese2digits(fine_char[:len(fine_char)-1]))\n",
    "            else:\n",
    "                fine_num = chinese2digits(fine_char)\n",
    "    else:\n",
    "        pass\n",
    "    if fine_num == 10080500000:\n",
    "        print(i)\n",
    "    return {\"fine\":fine_num}"
   ]
  },
  {
   "cell_type": "code",
   "execution_count": 287,
   "metadata": {},
   "outputs": [],
   "source": [
    "detention_result = []\n",
    "for i in detention:\n",
    "    m = find_detention(i)\n",
    "    if (m['day'] != 0) or (m['month'] != 0):\n",
    "        detention_result.append(m)\n",
    "# detention_result"
   ]
  },
  {
   "cell_type": "code",
   "execution_count": 288,
   "metadata": {},
   "outputs": [],
   "source": [
    "suspended_result = []\n",
    "for i in suspended:\n",
    "    m = find_year_month(i)\n",
    "    if (m['year'] != 0) or (m['month'] != 0):\n",
    "        suspended_result.append(m)\n",
    "#suspended_result"
   ]
  },
  {
   "cell_type": "code",
   "execution_count": 289,
   "metadata": {},
   "outputs": [],
   "source": [
    "imprisonment_result = []\n",
    "for i in imprisonment:\n",
    "    m = find_year_month(i)\n",
    "    if (m['year'] != 0) or (m['month'] != 0):\n",
    "        imprisonment_result.append(m)\n",
    "#imprisonment_result"
   ]
  },
  {
   "cell_type": "code",
   "execution_count": 290,
   "metadata": {},
   "outputs": [],
   "source": [
    "fines_result = []\n",
    "for i in fines:\n",
    "    m = find_fines(i)\n",
    "    if m['fine'] != 0:\n",
    "        fines_result.append(m)\n",
    "#fines_result"
   ]
  },
  {
   "cell_type": "code",
   "execution_count": 291,
   "metadata": {},
   "outputs": [
    {
     "data": {
      "text/plain": [
       "10080500000"
      ]
     },
     "execution_count": 291,
     "metadata": {},
     "output_type": "execute_result"
    }
   ],
   "source": [
    "chinese2digits('一千八百五十万')"
   ]
  },
  {
   "cell_type": "markdown",
   "metadata": {},
   "source": [
    "---\n",
    " <a name='data_analysis'/>"
   ]
  },
  {
   "cell_type": "markdown",
   "metadata": {},
   "source": [
    "# Data analysis\n",
    "\n",
    "Build a result table that shows the statistics of the data\n",
    "\n",
    "##### Find top 5 companies that pay the most fine\n",
    "<a href=#top_companies>click here</a>\n",
    "##### How does defendent's occupation affect their penalties\n",
    "<a href=#occupation_penalties>click here</a>"
   ]
  },
  {
   "cell_type": "code",
   "execution_count": 293,
   "metadata": {},
   "outputs": [],
   "source": [
    "# convert all dict list to numerical list\n",
    "y = []\n",
    "m = []\n",
    "d = []\n",
    "imprisonment_arr = []\n",
    "detention_arr = []\n",
    "suspended_arr = []\n",
    "for c in imprisonment_result:\n",
    "    y.append(c['year'])\n",
    "    m.append(c['month'])\n",
    "    imprisonment_arr.append(c['year'] * 12 + c['month'])\n",
    "imprisonment_arr = np.array(imprisonment_arr)\n",
    "\n",
    "for c in detention_result:\n",
    "    d.append(c['day'])\n",
    "    m.append(c['month'])\n",
    "    detention_arr.append(c['month'] * 30 + c['day'])\n",
    "detention_arr = np.array(detention_arr)\n",
    "\n",
    "for c in suspended_result:\n",
    "    y.append(c['year'])\n",
    "    m.append(c['month'])\n",
    "    suspended_arr.append(c['year'] * 12 + c['month'])\n",
    "suspended_arr = np.array(suspended_arr)\n",
    "\n",
    "fine_arr = np.array([i['fine'] for i in fines_result])\n",
    "all_arr = [imprisonment_arr, suspended_arr, detention_arr, fine_arr]\n"
   ]
  },
  {
   "cell_type": "code",
   "execution_count": 294,
   "metadata": {},
   "outputs": [],
   "source": [
    "# helper function\n",
    "def add_comma(s):\n",
    "    count = 0\n",
    "    result = ''\n",
    "    if len(s) < 1:\n",
    "        return result\n",
    "    if '.' in s:\n",
    "        return add_comma(s.split('.')[0]) + '.' + s.split('.')[1]\n",
    "    for i in range(1, len(s)+1):\n",
    "        if count == 3:\n",
    "            result = ',' + result\n",
    "            count = 0\n",
    "        result = s[-i] + result\n",
    "        count += 1\n",
    "    return result"
   ]
  },
  {
   "cell_type": "code",
   "execution_count": 295,
   "metadata": {},
   "outputs": [
    {
     "data": {
      "text/html": [
       "<div>\n",
       "<style scoped>\n",
       "    .dataframe tbody tr th:only-of-type {\n",
       "        vertical-align: middle;\n",
       "    }\n",
       "\n",
       "    .dataframe tbody tr th {\n",
       "        vertical-align: top;\n",
       "    }\n",
       "\n",
       "    .dataframe thead th {\n",
       "        text-align: right;\n",
       "    }\n",
       "</style>\n",
       "<table border=\"1\" class=\"dataframe\">\n",
       "  <thead>\n",
       "    <tr style=\"text-align: right;\">\n",
       "      <th></th>\n",
       "      <th>max</th>\n",
       "      <th>min</th>\n",
       "      <th>mean</th>\n",
       "      <th>median</th>\n",
       "      <th>std</th>\n",
       "      <th>mode</th>\n",
       "    </tr>\n",
       "  </thead>\n",
       "  <tbody>\n",
       "    <tr>\n",
       "      <th>0</th>\n",
       "      <td>120</td>\n",
       "      <td>4</td>\n",
       "      <td>12.33</td>\n",
       "      <td>10.0</td>\n",
       "      <td>7.87</td>\n",
       "      <td>12, count: 1768</td>\n",
       "    </tr>\n",
       "    <tr>\n",
       "      <th>1</th>\n",
       "      <td>60</td>\n",
       "      <td>2</td>\n",
       "      <td>16.29</td>\n",
       "      <td>12.0</td>\n",
       "      <td>8.54</td>\n",
       "      <td>12, count: 1761</td>\n",
       "    </tr>\n",
       "    <tr>\n",
       "      <th>2</th>\n",
       "      <td>180</td>\n",
       "      <td>30</td>\n",
       "      <td>130.36</td>\n",
       "      <td>120.0</td>\n",
       "      <td>36.65</td>\n",
       "      <td>150, count: 446</td>\n",
       "    </tr>\n",
       "    <tr>\n",
       "      <th>3</th>\n",
       "      <td>18500000</td>\n",
       "      <td>1000</td>\n",
       "      <td>35070.22</td>\n",
       "      <td>14000.0</td>\n",
       "      <td>219958.28</td>\n",
       "      <td>10000, count: 2487</td>\n",
       "    </tr>\n",
       "  </tbody>\n",
       "</table>\n",
       "</div>"
      ],
      "text/plain": [
       "        max   min      mean   median        std                mode\n",
       "0       120     4     12.33     10.0       7.87     12, count: 1768\n",
       "1        60     2     16.29     12.0       8.54     12, count: 1761\n",
       "2       180    30    130.36    120.0      36.65     150, count: 446\n",
       "3  18500000  1000  35070.22  14000.0  219958.28  10000, count: 2487"
      ]
     },
     "execution_count": 295,
     "metadata": {},
     "output_type": "execute_result"
    }
   ],
   "source": [
    "i_stats_result = []\n",
    "total_stats_result = []\n",
    "\n",
    "for i_arr in all_arr:\n",
    "    i_max = np.max(i_arr)\n",
    "    i_min = np.min(i_arr)\n",
    "    i_mean = np.around(np.mean(i_arr), decimals=2)\n",
    "    i_median = np.median(i_arr)\n",
    "    i_std = np.around(np.std(i_arr), decimals=2)\n",
    "    i_mode = str(stats.mode(i_arr)[0][0]) + \", count: \" + str(stats.mode(i_arr)[1][0])\n",
    "    i_stats_result = [i_max, i_min, i_mean, i_median, i_std, i_mode]\n",
    "    total_stats_result.append(i_stats_result)\n",
    "df = pd.DataFrame(np.array(total_stats_result),columns=['max', 'min', 'mean', 'median', 'std', 'mode'])\n",
    "df"
   ]
  },
  {
   "cell_type": "code",
   "execution_count": 296,
   "metadata": {},
   "outputs": [
    {
     "data": {
      "text/html": [
       "<div>\n",
       "<style scoped>\n",
       "    .dataframe tbody tr th:only-of-type {\n",
       "        vertical-align: middle;\n",
       "    }\n",
       "\n",
       "    .dataframe tbody tr th {\n",
       "        vertical-align: top;\n",
       "    }\n",
       "\n",
       "    .dataframe thead th {\n",
       "        text-align: right;\n",
       "    }\n",
       "</style>\n",
       "<table border=\"1\" class=\"dataframe\">\n",
       "  <thead>\n",
       "    <tr style=\"text-align: right;\">\n",
       "      <th></th>\n",
       "      <th>max</th>\n",
       "      <th>min</th>\n",
       "      <th>mean</th>\n",
       "      <th>median</th>\n",
       "      <th>std</th>\n",
       "      <th>mode</th>\n",
       "      <th>ratio(%)</th>\n",
       "    </tr>\n",
       "  </thead>\n",
       "  <tbody>\n",
       "    <tr>\n",
       "      <th>imprisonment</th>\n",
       "      <td>120 months</td>\n",
       "      <td>4 months</td>\n",
       "      <td>12.33 months</td>\n",
       "      <td>10.0 months</td>\n",
       "      <td>7.87 months</td>\n",
       "      <td>12 months, count: 1768</td>\n",
       "      <td>35.49</td>\n",
       "    </tr>\n",
       "    <tr>\n",
       "      <th>suspended</th>\n",
       "      <td>60 months</td>\n",
       "      <td>2 months</td>\n",
       "      <td>16.29 months</td>\n",
       "      <td>12.0 months</td>\n",
       "      <td>8.54 months</td>\n",
       "      <td>12 months, count: 1761</td>\n",
       "      <td>15.50</td>\n",
       "    </tr>\n",
       "    <tr>\n",
       "      <th>detention</th>\n",
       "      <td>180 days</td>\n",
       "      <td>30 days</td>\n",
       "      <td>130.36 days</td>\n",
       "      <td>120.0 days</td>\n",
       "      <td>36.65 days</td>\n",
       "      <td>150 days, count: 446</td>\n",
       "      <td>6.04</td>\n",
       "    </tr>\n",
       "    <tr>\n",
       "      <th>fine</th>\n",
       "      <td>18,500,000 CNY</td>\n",
       "      <td>1,000 CNY</td>\n",
       "      <td>35,070.22 CNY</td>\n",
       "      <td>14,000.0 CNY</td>\n",
       "      <td>219,958.28 CNY</td>\n",
       "      <td>10000 CNY, count: 2487</td>\n",
       "      <td>42.97</td>\n",
       "    </tr>\n",
       "  </tbody>\n",
       "</table>\n",
       "</div>"
      ],
      "text/plain": [
       "                         max        min           mean        median  \\\n",
       "imprisonment      120 months   4 months   12.33 months   10.0 months   \n",
       "suspended          60 months   2 months   16.29 months   12.0 months   \n",
       "detention           180 days    30 days    130.36 days    120.0 days   \n",
       "fine          18,500,000 CNY  1,000 CNY  35,070.22 CNY  14,000.0 CNY   \n",
       "\n",
       "                         std                    mode  ratio(%)  \n",
       "imprisonment     7.87 months  12 months, count: 1768     35.49  \n",
       "suspended        8.54 months  12 months, count: 1761     15.50  \n",
       "detention         36.65 days    150 days, count: 446      6.04  \n",
       "fine          219,958.28 CNY  10000 CNY, count: 2487     42.97  "
      ]
     },
     "execution_count": 296,
     "metadata": {},
     "output_type": "execute_result"
    }
   ],
   "source": [
    "df.rename(index={0:'imprisonment', 1:'suspended', 2:'detention', 3:'fine'}, inplace=True)\n",
    "\n",
    "# find penalty ratio in the data\n",
    "imprisonment_ratio = np.around((imprisonment_count/total_count)*100, decimals=2)\n",
    "suspended_ratio = np.around((suspended_count/total_count)*100, decimals=2)\n",
    "detention_ratio = np.around((detention_count/total_count)*100, decimals=2)\n",
    "fines_ratio = np.around((fines_count/total_count)*100, decimals=2)\n",
    "\n",
    "for j in range(2):\n",
    "    for i in range(len(df.iloc[j]) - 1):\n",
    "        df.iloc[j][i] = df.iloc[j][i] + \" months\"\n",
    "    # df.iloc[0][0] = df.iloc[0][0] + \"月\"\n",
    "for i in range(len(df.iloc[2]) - 1):\n",
    "    df.iloc[2][i] = df.iloc[2][i] + \" days\"\n",
    "for i in range(len(df.iloc[3]) - 1):\n",
    "    df.iloc[3][i] = add_comma(df.iloc[3][i]) + \" CNY\"\n",
    "df.iloc[0][5] = df.iloc[0][5][:2] + \" months\" + df.iloc[0][5][2:]\n",
    "df.iloc[1][5] = df.iloc[1][5][:2] + \" months\" + df.iloc[1][5][2:]\n",
    "df.iloc[2][5] = df.iloc[2][5][:3] + \" days\" + df.iloc[2][5][3:]\n",
    "df.iloc[3][5] = df.iloc[3][5][:5] + \" CNY\" + df.iloc[3][5][5:]\n",
    "df.insert(6, 'ratio(%)', np.array([imprisonment_ratio, suspended_ratio, detention_ratio, fines_ratio]))\n",
    "df"
   ]
  },
  {
   "cell_type": "markdown",
   "metadata": {},
   "source": [
    "---\n",
    "## Data Visualization"
   ]
  },
  {
   "cell_type": "markdown",
   "metadata": {},
   "source": [
    "### Imprisonment"
   ]
  },
  {
   "cell_type": "code",
   "execution_count": 297,
   "metadata": {},
   "outputs": [
    {
     "data": {
      "image/png": "[encoded data removed]",
      "text/plain": [
       "<Figure size 576x360 with 1 Axes>"
      ]
     },
     "metadata": {
      "needs_background": "light"
     },
     "output_type": "display_data"
    },
    {
     "name": "stdout",
     "output_type": "stream",
     "text": [
      "[1522, 5213, 1458, 531, 133, 160, 150]\n"
     ]
    }
   ],
   "source": [
    "imprisonment_label = [\"6 months\", \"12 months\", \"18 months\", \"24 months\", \"30 months\",\n",
    "                      \"36 months\", \"42 months\"]\n",
    "imprisonment_value = []\n",
    "for i in range(1, 7):\n",
    "    imprisonment_value.append(len([n for n in imprisonment_arr if n <= i*6 and n > (i-1)*6]))\n",
    "imprisonment_value.append(len([n for n in imprisonment_arr if n > (6)*6]))\n",
    "plt.figure(figsize=(8, 5))\n",
    "plt.bar(imprisonment_label, imprisonment_value, width=0.5)\n",
    "plt.show()\n",
    "print(imprisonment_value)"
   ]
  },
  {
   "cell_type": "markdown",
   "metadata": {},
   "source": [
    "### Suspended"
   ]
  },
  {
   "cell_type": "code",
   "execution_count": 298,
   "metadata": {
    "scrolled": true
   },
   "outputs": [
    {
     "data": {
      "image/png": "[encoded data removed]",
      "text/plain": [
       "<Figure size 576x360 with 1 Axes>"
      ]
     },
     "metadata": {
      "needs_background": "light"
     },
     "output_type": "display_data"
    },
    {
     "name": "stdout",
     "output_type": "stream",
     "text": [
      "[91, 481, 1862, 507, 772, 40, 249]\n"
     ]
    }
   ],
   "source": [
    "suspended_label = [\"5 months\", \"10 months\", \"15 months\", \"20 months\", \"25 months\",\n",
    "                      \"30 months\", \"35 months\"]\n",
    "suspended_value = []\n",
    "for i in range(1, 7):\n",
    "    suspended_value.append(len([n for n in suspended_arr if n <= i*5 and n > (i-1)*5]))\n",
    "suspended_value.append(len([n for n in suspended_arr if n > 7*5]))\n",
    "plt.figure(figsize=(8, 5))\n",
    "plt.bar(suspended_label, suspended_value, width=0.5)\n",
    "plt.show()\n",
    "print(suspended_value)"
   ]
  },
  {
   "cell_type": "markdown",
   "metadata": {},
   "source": [
    "### Detention"
   ]
  },
  {
   "cell_type": "code",
   "execution_count": 299,
   "metadata": {},
   "outputs": [
    {
     "data": {
      "image/png": "[encoded data removed]",
      "text/plain": [
       "<Figure size 504x360 with 1 Axes>"
      ]
     },
     "metadata": {
      "needs_background": "light"
     },
     "output_type": "display_data"
    },
    {
     "name": "stdout",
     "output_type": "stream",
     "text": [
      "[29, 87, 242, 438, 466, 299]\n"
     ]
    }
   ],
   "source": [
    "detention_label = [\"30 days\", \"60 days\", \"90 days\", \"120 days\", \"150 days\",\n",
    "                      \"180 days\"]\n",
    "detention_value = []\n",
    "for i in range(1, 7):\n",
    "    detention_value.append(len([n for n in detention_arr if n <= i*30 and n > (i-1)*30]))\n",
    "plt.figure(figsize=(7, 5))\n",
    "plt.bar(detention_label, detention_value, width=0.5)\n",
    "plt.show()\n",
    "print(detention_value)"
   ]
  },
  {
   "cell_type": "markdown",
   "metadata": {},
   "source": [
    "### Fine"
   ]
  },
  {
   "cell_type": "code",
   "execution_count": 300,
   "metadata": {},
   "outputs": [
    {
     "data": {
      "image/png": "[encoded data removed]",
      "text/plain": [
       "<Figure size 576x504 with 1 Axes>"
      ]
     },
     "metadata": {
      "needs_background": "light"
     },
     "output_type": "display_data"
    },
    {
     "name": "stdout",
     "output_type": "stream",
     "text": [
      "[5421, 2328, 1019, 337, 771, 181, 987]\n"
     ]
    }
   ],
   "source": [
    "fine_label = [\" 10,000 CNY\", \"20,000 CNY\", \"30,000 CNY\", \"40,000 CNY\", \"50,000 CNY\",\n",
    "                      \"60,000 CNY\", \"70,000 CNY\"]\n",
    "fine_value = []\n",
    "for i in range(1, 7):\n",
    "    fine_value.append(len([n for n in fine_arr if n <= i*10000 and n > (i-1)*10000]))\n",
    "fine_value.append(len([n for n in fine_arr if n > 6*10000]))\n",
    "plt.figure(figsize=(8, 7))\n",
    "plt.bar(fine_label, fine_value, width=0.5)\n",
    "plt.show()\n",
    "print(fine_value)"
   ]
  },
  {
   "cell_type": "markdown",
   "metadata": {},
   "source": [
    "### Data analysis for individual and for company"
   ]
  },
  {
   "cell_type": "code",
   "execution_count": 301,
   "metadata": {},
   "outputs": [],
   "source": [
    "# find company defendent\n",
    "data_company = [j for i in data for j in i if '被告单位' in j.keys()]\n",
    "# data_company"
   ]
  },
  {
   "cell_type": "code",
   "execution_count": 302,
   "metadata": {},
   "outputs": [],
   "source": [
    "# find individual defendent\n",
    "data_individual = [j for i in data for j in i if '被告人' in j.keys()]\n",
    "# data_individual "
   ]
  },
  {
   "cell_type": "code",
   "execution_count": 303,
   "metadata": {},
   "outputs": [
    {
     "name": "stdout",
     "output_type": "stream",
     "text": [
      "number of companies involved:  449\n",
      "number of people involved:  10504\n"
     ]
    }
   ],
   "source": [
    "print(\"number of companies involved: \", len(data_company))\n",
    "print(\"number of people involved: \", len(data_individual))"
   ]
  },
  {
   "cell_type": "code",
   "execution_count": 304,
   "metadata": {},
   "outputs": [],
   "source": [
    "# company result\n",
    "fines = []\n",
    "for decision in data_company:\n",
    "    decision_lst = list(decision.keys())\n",
    "    for penalty in decision_lst:\n",
    "        if (penalty == \"免予处罚\") and (decision[penalty]):\n",
    "            pass\n",
    "        elif penalty == \"罚金\":\n",
    "            fines.append(decision[penalty])\n",
    "company_fines_result = []\n",
    "for i in fines:\n",
    "    m = find_fines(i)\n",
    "    if m['fine'] != 0:\n",
    "        company_fines_result.append(m)\n",
    "company_fine_arr = np.array([i['fine'] for i in company_fines_result])\n",
    "# company_fine_arr"
   ]
  },
  {
   "cell_type": "code",
   "execution_count": 305,
   "metadata": {},
   "outputs": [],
   "source": [
    "# person result\n",
    "fines = []\n",
    "for decision in data_individual:\n",
    "    decision_lst = list(decision.keys())\n",
    "    for penalty in decision_lst:\n",
    "        if (penalty == \"免予处罚\") and (decision[penalty]):\n",
    "            pass\n",
    "        elif penalty == \"罚金\":\n",
    "            fines.append(decision[penalty])\n",
    "individual_fines_result = []\n",
    "for i in fines:\n",
    "    m = find_fines(i)\n",
    "    if m['fine'] != 0:\n",
    "        individual_fines_result.append(m)\n",
    "individual_fine_arr = np.array([i['fine'] for i in individual_fines_result])\n",
    "# individual_fine_arr"
   ]
  },
  {
   "cell_type": "code",
   "execution_count": 306,
   "metadata": {},
   "outputs": [
    {
     "data": {
      "text/html": [
       "<div>\n",
       "<style scoped>\n",
       "    .dataframe tbody tr th:only-of-type {\n",
       "        vertical-align: middle;\n",
       "    }\n",
       "\n",
       "    .dataframe tbody tr th {\n",
       "        vertical-align: top;\n",
       "    }\n",
       "\n",
       "    .dataframe thead th {\n",
       "        text-align: right;\n",
       "    }\n",
       "</style>\n",
       "<table border=\"1\" class=\"dataframe\">\n",
       "  <thead>\n",
       "    <tr style=\"text-align: right;\">\n",
       "      <th></th>\n",
       "      <th>max</th>\n",
       "      <th>min</th>\n",
       "      <th>mean</th>\n",
       "      <th>median</th>\n",
       "      <th>std</th>\n",
       "      <th>mode</th>\n",
       "    </tr>\n",
       "  </thead>\n",
       "  <tbody>\n",
       "    <tr>\n",
       "      <th>company fines</th>\n",
       "      <td>18,500,000 CNY</td>\n",
       "      <td>5,000 CNY</td>\n",
       "      <td>258,145.65 CNY</td>\n",
       "      <td>80,000.0 CNY</td>\n",
       "      <td>1,043,162.85 CNY</td>\n",
       "      <td>50,000 CNY, count: 76</td>\n",
       "    </tr>\n",
       "    <tr>\n",
       "      <th>individual fines</th>\n",
       "      <td>2,100,000 CNY</td>\n",
       "      <td>1,000 CNY</td>\n",
       "      <td>25,552.96 CNY</td>\n",
       "      <td>10,000.0 CNY</td>\n",
       "      <td>51,742.18 CNY</td>\n",
       "      <td>10,000 CNY, count: 2331</td>\n",
       "    </tr>\n",
       "  </tbody>\n",
       "</table>\n",
       "</div>"
      ],
      "text/plain": [
       "                             max        min            mean        median  \\\n",
       "company fines     18,500,000 CNY  5,000 CNY  258,145.65 CNY  80,000.0 CNY   \n",
       "individual fines   2,100,000 CNY  1,000 CNY   25,552.96 CNY  10,000.0 CNY   \n",
       "\n",
       "                               std                     mode  \n",
       "company fines     1,043,162.85 CNY    50,000 CNY, count: 76  \n",
       "individual fines     51,742.18 CNY  10,000 CNY, count: 2331  "
      ]
     },
     "execution_count": 306,
     "metadata": {},
     "output_type": "execute_result"
    }
   ],
   "source": [
    "# find statistical data\n",
    "company_max = np.max(company_fine_arr)\n",
    "company_min = np.min(company_fine_arr)\n",
    "company_mean = np.around(np.mean(company_fine_arr), decimals=2)\n",
    "company_median = np.median(company_fine_arr)\n",
    "company_std = np.around(np.std(company_fine_arr), decimals=2)\n",
    "company_mode = str(stats.mode(company_fine_arr)[0][0]) + \", count: \" + str(stats.mode(company_fine_arr)[1][0])\n",
    "company_stats_result = [company_max, company_min, company_mean, company_median, company_std, company_mode]\n",
    "\n",
    "individual_max = np.max(individual_fine_arr)\n",
    "individual_min = np.min(individual_fine_arr)\n",
    "individual_mean = np.around(np.mean(individual_fine_arr), decimals=2)\n",
    "individual_median = np.median(individual_fine_arr)\n",
    "individual_std = np.around(np.std(individual_fine_arr), decimals=2)\n",
    "individual_mode = str(stats.mode(individual_fine_arr)[0][0]) + \", count: \" + str(stats.mode(individual_fine_arr)[1][0])\n",
    "individual_stats_result = [individual_max, individual_min, individual_mean, individual_median, individual_std, individual_mode]\n",
    "\n",
    "fines_df = pd.DataFrame(np.array([company_stats_result, individual_stats_result]),columns=['max', 'min', 'mean', 'median', 'std', 'mode'])\n",
    "\n",
    "# modify the table for better visualization\n",
    "for index, j in fines_df.iterrows():\n",
    "    for i in range(len(fines_df.iloc[index]) - 1):\n",
    "        fines_df.iloc[index][i] = add_comma(fines_df.iloc[index][i]) + \" CNY\"\n",
    "    fines_df.iloc[index][5] = add_comma(fines_df.iloc[index][5][:5]) + \" CNY\" + fines_df.iloc[index][5][5:]\n",
    "fines_df.rename(index={0:'company fines', 1:'individual fines'}, inplace=True)\n",
    "fines_df"
   ]
  },
  {
   "cell_type": "code",
   "execution_count": 307,
   "metadata": {},
   "outputs": [
    {
     "data": {
      "image/png": "[encoded data removed]",
      "text/plain": [
       "<Figure size 648x360 with 1 Axes>"
      ]
     },
     "metadata": {
      "needs_background": "light"
     },
     "output_type": "display_data"
    },
    {
     "name": "stdout",
     "output_type": "stream",
     "text": [
      "[201, 107, 20, 33, 7, 20, 56]\n"
     ]
    }
   ],
   "source": [
    "company_fine_label = [\" 50,000 CNY\", \"100,000 CNY\", \"150,000 CNY\", \"200,000 CNY\", \"250,000 CNY\",\n",
    "                      \"300,000 CNY\", \"350,000 CNY\"]\n",
    "company_fine_value = []\n",
    "\n",
    "for i in range(1, 7):\n",
    "    company_fine_value.append(len([n for n in company_fine_arr if n <= i*50000 and n > (i-1)*50000]))\n",
    "company_fine_value.append(len([n for n in company_fine_arr if n > 6*50000]))\n",
    "    \n",
    "plt.figure(figsize=(9, 5))\n",
    "# ax = plt.subplot(111)\n",
    "# ax.bar(fine_label, company_fine_value)\n",
    "# ax.bar(fine_label, individual_fine_value)\n",
    "plt.bar(company_fine_label, company_fine_value, color='g', width=0.5)\n",
    "plt.show()\n",
    "print(company_fine_value)"
   ]
  },
  {
   "cell_type": "code",
   "execution_count": 308,
   "metadata": {},
   "outputs": [
    {
     "data": {
      "image/png": "[encoded data removed]",
      "text/plain": [
       "<Figure size 648x360 with 1 Axes>"
      ]
     },
     "metadata": {
      "needs_background": "light"
     },
     "output_type": "display_data"
    },
    {
     "name": "stdout",
     "output_type": "stream",
     "text": [
      "[2101, 3015, 461, 1710, 94, 828, 1794]\n"
     ]
    }
   ],
   "source": [
    "individual_fine_label = [\" 5,000 CNY\", \"10,000 CNY\", \"15,000 CNY\", \"20,000 CNY\", \"25,000 CNY\",\n",
    "                      \"30,000 CNY\", \"35,000 CNY\"]\n",
    "\n",
    "individual_fine_value = []\n",
    "for i in range(1, 7):\n",
    "    individual_fine_value.append(len([n for n in individual_fine_arr if n <= i*5000 and n > (i-1)*5000]))\n",
    "individual_fine_value.append(len([n for n in individual_fine_arr if n > 6*5000]))\n",
    "\n",
    "plt.figure(figsize=(9, 5))\n",
    "plt.bar(individual_fine_label, individual_fine_value, width=0.5)\n",
    "plt.show()\n",
    "print(individual_fine_value)"
   ]
  },
  {
   "cell_type": "code",
   "execution_count": 309,
   "metadata": {},
   "outputs": [
    {
     "data": {
      "image/png": "[encoded data removed]",
      "text/plain": [
       "<Figure size 648x360 with 1 Axes>"
      ]
     },
     "metadata": {
      "needs_background": "light"
     },
     "output_type": "display_data"
    }
   ],
   "source": [
    "plt.figure(figsize=(9, 5))\n",
    "ax = plt.subplot(111)\n",
    "wid = 0.25\n",
    "com = [i - wid/2 for i in range(1, 8)]\n",
    "ind = [i + wid/2 for i in range(1, 8)]\n",
    "\n",
    "\n",
    "ax.bar(com, company_fine_value, color='r', width=wid)\n",
    "ax.bar(ind, individual_fine_value, color='b', width=wid)\n",
    "plt.xticks(np.arange(1, 8), individual_fine_label)\n",
    "\n",
    "plt.show()"
   ]
  },
  {
   "cell_type": "markdown",
   "metadata": {},
   "source": [
    "---\n",
    " <a name='top_companies' />"
   ]
  },
  {
   "cell_type": "markdown",
   "metadata": {},
   "source": [
    "### Find top 5 companies that pay the most fine"
   ]
  },
  {
   "cell_type": "code",
   "execution_count": 310,
   "metadata": {},
   "outputs": [
    {
     "data": {
      "text/plain": [
       "[18500000, 8000000, 5000000, 5000000, 2450000]"
      ]
     },
     "execution_count": 310,
     "metadata": {},
     "output_type": "execute_result"
    }
   ],
   "source": [
    "fine_arr.sort()\n",
    "top_5 = [fine_arr[-i] for i in range(1, 6)]\n",
    "top_5"
   ]
  },
  {
   "cell_type": "code",
   "execution_count": 311,
   "metadata": {},
   "outputs": [
    {
     "data": {
      "text/plain": [
       "[{'被告单位': '瑞安宝源化工有限公司', '罚金': '人民币8000000元', 'pid': 17078470},\n",
       " {'被告单位': '无锡双象超纤材料股份有限公司', '罚金': '人民币五百万元', 'pid': 14973975},\n",
       " {'被告单位': '某某（河北）焦化有限公司', '罚金': '人民币二百四十五万元', 'pid': 28286322},\n",
       " {'被告单位': '某', '罚金': '人民币一千八百五十万元', 'pid': 18390772},\n",
       " {'被告单位': '宁夏某某染化有限公司', '罚金': '人民币五百万元', 'pid': 4080709}]"
      ]
     },
     "execution_count": 311,
     "metadata": {},
     "output_type": "execute_result"
    }
   ],
   "source": [
    "top_5_decision = []\n",
    "for cases in data:\n",
    "    for decision in cases:\n",
    "        decision_lst = list(decision.keys())\n",
    "        for penalty in decision_lst:\n",
    "            if penalty == \"罚金\":\n",
    "                num_fine = find_fines(decision[penalty])\n",
    "#                 print(num_fine['fine'])\n",
    "                if num_fine['fine'] in top_5:\n",
    "                    top_5_decision.append(decision)\n",
    "top_5_decision[4]['被告单位'] = '宁夏某某染化有限公司'\n",
    "top_5_decision"
   ]
  },
  {
   "cell_type": "code",
   "execution_count": 325,
   "metadata": {},
   "outputs": [],
   "source": [
    "row = pollution_df.where(pollution_df['pid'] == 4080709).dropna()\n",
    "# row"
   ]
  },
  {
   "cell_type": "code",
   "execution_count": 324,
   "metadata": {},
   "outputs": [],
   "source": [
    "# print(pollution_df['originaltext'][4780])"
   ]
  },
  {
   "cell_type": "markdown",
   "metadata": {},
   "source": [
    "---\n",
    "## Find defendants that actually go to jail\n",
    "Imprisonment time is longer than suspended time"
   ]
  },
  {
   "cell_type": "code",
   "execution_count": 315,
   "metadata": {
    "scrolled": true
   },
   "outputs": [],
   "source": [
    "# modify data list\n",
    "# year_month = 0\n",
    "# go_jail = []\n",
    "# no_jail = []\n",
    "# for cases in data:\n",
    "#     for decision in cases:\n",
    "#         suspended_time = 0\n",
    "#         imprisonment_time = 0\n",
    "#         decision_lst = list(decision.keys())\n",
    "#         if \"缓刑\" in decision_lst or \"有期徒刑\" in decision_lst:\n",
    "#             for penalty in decision_lst:\n",
    "#                 if penalty == \"缓刑\":\n",
    "#                     year_month = find_year_month(decision[penalty])\n",
    "#                     suspended_time = year_month['year'] * 12 + year_month['month']\n",
    "#                 elif penalty == \"有期徒刑\":\n",
    "#                     year_month = find_year_month(decision[penalty])\n",
    "#                     imprisonment_time = year_month['year'] * 12 + year_month['month']\n",
    "#                 if suspended_time > imprisonment_time:\n",
    "#                     decision[\"有效时间(月)\"] = 0\n",
    "#                     no_jail.append(decision)\n",
    "#                 elif suspended_time < imprisonment_time:\n",
    "#                     decision[\"有效时间(月)\"] = imprisonment_time - suspended_time\n",
    "#                     go_jail.append(decision)\n",
    "#                 elif suspended_time == imprisonment_time:\n",
    "#                     decision[\"有效时间(月)\"] = 0\n",
    "#                     no_jail.append(decision)\n",
    "# print(\"number of defendents that actually go to jail: \", len(go_jail))\n",
    "# print(\"number of defendents that don't go to jail: \", len(no_jail))\n",
    "# data"
   ]
  },
  {
   "cell_type": "code",
   "execution_count": 314,
   "metadata": {},
   "outputs": [
    {
     "data": {
      "text/plain": [
       "11583"
      ]
     },
     "execution_count": 314,
     "metadata": {},
     "output_type": "execute_result"
    }
   ],
   "source": [
    "# find the total number of defendents in all cases\n",
    "total_defendent = 0\n",
    "for cases in data:\n",
    "    cases_len = len(cases)\n",
    "    total_defendent += cases_len\n",
    "total_defendent"
   ]
  },
  {
   "cell_type": "code",
   "execution_count": 319,
   "metadata": {},
   "outputs": [
    {
     "name": "stdout",
     "output_type": "stream",
     "text": [
      "number of defendents that actually go to jail:  5826\n",
      "number of defendents that don't go to jail:  5757\n"
     ]
    }
   ],
   "source": [
    "go_jail = []\n",
    "no_jail = []\n",
    "for cases in data:\n",
    "    for decision in cases:\n",
    "        if decision.get('有效时间(月)', -1) > 0:\n",
    "            go_jail.append(decision)\n",
    "        else:\n",
    "            no_jail.append(decision)\n",
    "print(\"number of defendents that actually go to jail: \", len(go_jail))\n",
    "print(\"number of defendents that don't go to jail: \", len(no_jail))"
   ]
  },
  {
   "cell_type": "code",
   "execution_count": 353,
   "metadata": {},
   "outputs": [],
   "source": [
    "effective_time_arr = []\n",
    "for case in go_jail:\n",
    "    effective_time_arr.append(case['有效时间(月)'])\n",
    "# effective_time_arr"
   ]
  },
  {
   "cell_type": "code",
   "execution_count": 360,
   "metadata": {},
   "outputs": [
    {
     "data": {
      "image/png": "[encoded data removed]",
      "text/plain": [
       "<Figure size 576x360 with 1 Axes>"
      ]
     },
     "metadata": {
      "needs_background": "light"
     },
     "output_type": "display_data"
    },
    {
     "name": "stdout",
     "output_type": "stream",
     "text": [
      "[940, 3356, 915, 291, 84, 92, 148]\n"
     ]
    }
   ],
   "source": [
    "effective_time_label = [\"6 months\", \"12 months\", \"18 months\", \"24 months\", \"30 months\",\n",
    "                      \"36 months\", \"42 months\"]\n",
    "effective_time_value = []\n",
    "for i in range(1, 7):\n",
    "    effective_time_value.append(len([n for n in effective_time_arr if n <= i*6 and n > (i-1)*6]))\n",
    "effective_time_value.append(len([n for n in effective_time_arr if n > (6)*6]))\n",
    "plt.figure(figsize=(8, 5))\n",
    "plt.bar(effective_time_label, effective_time_value, width=0.5)\n",
    "plt.show()\n",
    "print(effective_time_value)"
   ]
  },
  {
   "cell_type": "code",
   "execution_count": 250,
   "metadata": {},
   "outputs": [
    {
     "name": "stdout",
     "output_type": "stream",
     "text": [
      "data saved\n"
     ]
    }
   ],
   "source": [
    "# import pickle\n",
    "# pickle.dump(data, open(\"data.p\", \"wb\"))\n",
    "# print(\"data saved\")"
   ]
  },
  {
   "cell_type": "markdown",
   "metadata": {},
   "source": [
    "---\n",
    " <a name='occupation_penalties' />"
   ]
  },
  {
   "cell_type": "markdown",
   "metadata": {},
   "source": [
    "## How does defendent's occupation affect their penalties "
   ]
  },
  {
   "cell_type": "code",
   "execution_count": 446,
   "metadata": {},
   "outputs": [],
   "source": [
    "# data_with_occupation: the data file but only contains decision that has occupation\n",
    "# occupation_lst: the list of all occupation\n",
    "# occupation_dict: dict that contains all info in the data_with_occupation but \n",
    "# categorized them based on occupation\n",
    "occupation_lst = []\n",
    "data_with_occupation = []\n",
    "occupation_dict = {}\n",
    "\n",
    "for cases in data:\n",
    "    for decision in cases:\n",
    "        occupation = decision.get('职业', 0)\n",
    "        if occupation != 0:\n",
    "            data_with_occupation.append(decision)\n",
    "            occupation_lst.append(occupation)\n",
    "\n",
    "c = Counter(occupation_lst)\n",
    "occupation_count = dict(c.most_common(20))\n",
    "len(data_with_occupation)\n",
    "for decision in data_with_occupation:\n",
    "    # if the list exists\n",
    "    if occupation_dict.get(decision['职业'], 0):\n",
    "        occupation_dict[decision['职业']].append(decision)\n",
    "    else:\n",
    "        occupation_dict[decision['职业']] = [decision]\n",
    "#occupation_dict"
   ]
  },
  {
   "cell_type": "markdown",
   "metadata": {},
   "source": [
    "### Top occupation"
   ]
  },
  {
   "cell_type": "code",
   "execution_count": 371,
   "metadata": {},
   "outputs": [],
   "source": [
    "occupation_category_lst = []\n",
    "occupation_count_lst = []\n",
    "# count_dict = {k:len(occupation_dict[k]) for k in occupation_dict.keys()}\n",
    "count_dict = sorted(occupation_dict.items(), key=lambda x: len(x[1]), reverse=True)\n",
    "for i in count_dict:\n",
    "    occupation_category_lst.append(i[0])\n",
    "    occupation_count_lst.append(len(i[1]))"
   ]
  },
  {
   "cell_type": "code",
   "execution_count": 372,
   "metadata": {},
   "outputs": [
    {
     "data": {
      "image/png": "[encoded data removed]",
      "text/plain": [
       "<Figure size 576x360 with 1 Axes>"
      ]
     },
     "metadata": {
      "needs_background": "light"
     },
     "output_type": "display_data"
    },
    {
     "name": "stdout",
     "output_type": "stream",
     "text": [
      "[2103, 581, 512, 293, 210, 185, 140, 130, 84, 78]\n",
      "['农民', '无业', '务工', '经商', '个体', '群众', '个体户', '务农', '个体经营者', '职工']\n"
     ]
    }
   ],
   "source": [
    "occupation_arr = occupation_count_lst[:10]\n",
    "occupation_label = occupation_category_lst[:10]\n",
    "\n",
    "plt.figure(figsize=(8, 5))\n",
    "plt.bar(occupation_label, occupation_arr, width=0.5)\n",
    "plt.show()\n",
    "print(occupation_arr)\n",
    "print(occupation_label)"
   ]
  },
  {
   "cell_type": "code",
   "execution_count": 447,
   "metadata": {},
   "outputs": [],
   "source": [
    "occu_total_dict = {}\n",
    "for o in count_dict[:10]:\n",
    "    occu_imprisonment = []\n",
    "    occu_detention = []\n",
    "    occu_suspended = []\n",
    "    occu_fines = []\n",
    "    occu_imprisonment_count = 0\n",
    "    occu_detention_count = 0\n",
    "    occu_suspended_count = 0\n",
    "    occu_fines_count = 0\n",
    "\n",
    "    for decision in o[1]:\n",
    "        decision_lst = list(decision.keys())\n",
    "        for penalty in decision_lst:\n",
    "#             print(penalty)\n",
    "#             print(decision[penalty])\n",
    "#             print(penalty == \"有期徒刑\")\n",
    "            if (penalty == \"免予处罚\") and (decision[penalty]):\n",
    "                pass\n",
    "            elif penalty == \"有期徒刑\":\n",
    "                occu_imprisonment.append(decision[penalty])\n",
    "                occu_imprisonment_count += 1\n",
    "            elif penalty == \"罚金\":\n",
    "                occu_fines.append(decision[penalty])\n",
    "                occu_fines_count += 1\n",
    "            elif penalty == \"缓刑\":\n",
    "                occu_suspended.append(decision[penalty])\n",
    "                occu_suspended_count += 1\n",
    "            elif penalty == \"拘役\":\n",
    "                occu_detention.append(decision[penalty])\n",
    "                occu_detention_count += 1\n",
    "    occu_detention_result = []\n",
    "    for i in occu_detention:\n",
    "        m = find_detention(i)\n",
    "        if (m['day'] != 0) or (m['month'] != 0):\n",
    "            occu_detention_result.append(m)\n",
    "    # detention_result\n",
    "\n",
    "    occu_suspended_result = []\n",
    "    for i in occu_suspended:\n",
    "        m = find_year_month(i)\n",
    "        if (m['year'] != 0) or (m['month'] != 0):\n",
    "            occu_suspended_result.append(m)\n",
    "    #suspended_result\n",
    "\n",
    "    occu_imprisonment_result = []\n",
    "    for i in occu_imprisonment:\n",
    "        m = find_year_month(i)\n",
    "        if (m['year'] != 0) or (m['month'] != 0):\n",
    "            occu_imprisonment_result.append(m)\n",
    "    #imprisonment_result\n",
    "\n",
    "    occu_fines_result = []\n",
    "    for i in occu_fines:\n",
    "        m = find_fines(i)\n",
    "        if m['fine'] != 0:\n",
    "            occu_fines_result.append(m)\n",
    "    #fines_result\n",
    "\n",
    "    # convert all dict list to numerical list\n",
    "    #     occu_y = []\n",
    "    #     occu_m = []\n",
    "    #     occu_d = []\n",
    "    occu_imprisonment_arr = []\n",
    "    occu_detention_arr = []\n",
    "    occu_suspended_arr = []\n",
    "    for c in occu_imprisonment_result:\n",
    "    #         occu_y.append(c['year'])\n",
    "    #         occu_m.append(c['month'])\n",
    "        occu_imprisonment_arr.append(c['year'] * 12 + c['month'])\n",
    "    occu_imprisonment_arr = np.array(occu_imprisonment_arr)\n",
    "\n",
    "    for c in occu_detention_result:\n",
    "    #         occu_d.append(c['day'])\n",
    "    #         occu_m.append(c['month'])\n",
    "        occu_detention_arr.append(c['month'] * 30 + c['day'])\n",
    "    occu_detention_arr = np.array(occu_detention_arr)\n",
    "\n",
    "    for c in occu_suspended_result:\n",
    "    #         occu_y.append(c['year'])\n",
    "    #         occu_m.append(c['month'])\n",
    "        occu_suspended_arr.append(c['year'] * 12 + c['month'])\n",
    "    occu_suspended_arr = np.array(occu_suspended_arr)\n",
    "\n",
    "    occu_fine_arr = np.array([i['fine'] for i in occu_fines_result])\n",
    "    occu_all_arr = [occu_imprisonment_arr, occu_suspended_arr, occu_detention_arr, occu_fine_arr]\n",
    "\n",
    "    occu_total_dict[o[0]] = occu_all_arr\n",
    "# occu_total_dict\n",
    "    "
   ]
  },
  {
   "cell_type": "markdown",
   "metadata": {},
   "source": [
    "### Imprisonment by occupation"
   ]
  },
  {
   "cell_type": "code",
   "execution_count": 444,
   "metadata": {},
   "outputs": [
    {
     "data": {
      "text/html": [
       "<div>\n",
       "<style scoped>\n",
       "    .dataframe tbody tr th:only-of-type {\n",
       "        vertical-align: middle;\n",
       "    }\n",
       "\n",
       "    .dataframe tbody tr th {\n",
       "        vertical-align: top;\n",
       "    }\n",
       "\n",
       "    .dataframe thead th {\n",
       "        text-align: right;\n",
       "    }\n",
       "</style>\n",
       "<table border=\"1\" class=\"dataframe\">\n",
       "  <thead>\n",
       "    <tr style=\"text-align: right;\">\n",
       "      <th></th>\n",
       "      <th>max</th>\n",
       "      <th>min</th>\n",
       "      <th>mean</th>\n",
       "      <th>median</th>\n",
       "    </tr>\n",
       "  </thead>\n",
       "  <tbody>\n",
       "    <tr>\n",
       "      <th>农民</th>\n",
       "      <td>78.0 months</td>\n",
       "      <td>6.0 months</td>\n",
       "      <td>12.54 months</td>\n",
       "      <td>11.0 months</td>\n",
       "    </tr>\n",
       "    <tr>\n",
       "      <th>无业</th>\n",
       "      <td>96.0 months</td>\n",
       "      <td>6.0 months</td>\n",
       "      <td>13.84 months</td>\n",
       "      <td>10.0 months</td>\n",
       "    </tr>\n",
       "    <tr>\n",
       "      <th>务工</th>\n",
       "      <td>60.0 months</td>\n",
       "      <td>4.0 months</td>\n",
       "      <td>9.43 months</td>\n",
       "      <td>8.0 months</td>\n",
       "    </tr>\n",
       "    <tr>\n",
       "      <th>经商</th>\n",
       "      <td>48.0 months</td>\n",
       "      <td>6.0 months</td>\n",
       "      <td>10.91 months</td>\n",
       "      <td>10.0 months</td>\n",
       "    </tr>\n",
       "    <tr>\n",
       "      <th>个体</th>\n",
       "      <td>54.0 months</td>\n",
       "      <td>6.0 months</td>\n",
       "      <td>14.42 months</td>\n",
       "      <td>12.0 months</td>\n",
       "    </tr>\n",
       "    <tr>\n",
       "      <th>群众</th>\n",
       "      <td>60.0 months</td>\n",
       "      <td>6.0 months</td>\n",
       "      <td>14.9 months</td>\n",
       "      <td>12.0 months</td>\n",
       "    </tr>\n",
       "    <tr>\n",
       "      <th>个体户</th>\n",
       "      <td>54.0 months</td>\n",
       "      <td>6.0 months</td>\n",
       "      <td>11.8 months</td>\n",
       "      <td>9.0 months</td>\n",
       "    </tr>\n",
       "    <tr>\n",
       "      <th>务农</th>\n",
       "      <td>30.0 months</td>\n",
       "      <td>6.0 months</td>\n",
       "      <td>11.3 months</td>\n",
       "      <td>12.0 months</td>\n",
       "    </tr>\n",
       "    <tr>\n",
       "      <th>个体经营者</th>\n",
       "      <td>42.0 months</td>\n",
       "      <td>6.0 months</td>\n",
       "      <td>13.47 months</td>\n",
       "      <td>9.5 months</td>\n",
       "    </tr>\n",
       "    <tr>\n",
       "      <th>职工</th>\n",
       "      <td>36.0 months</td>\n",
       "      <td>6.0 months</td>\n",
       "      <td>10.48 months</td>\n",
       "      <td>8.0 months</td>\n",
       "    </tr>\n",
       "  </tbody>\n",
       "</table>\n",
       "</div>"
      ],
      "text/plain": [
       "               max         min          mean       median\n",
       "农民     78.0 months  6.0 months  12.54 months  11.0 months\n",
       "无业     96.0 months  6.0 months  13.84 months  10.0 months\n",
       "务工     60.0 months  4.0 months   9.43 months   8.0 months\n",
       "经商     48.0 months  6.0 months  10.91 months  10.0 months\n",
       "个体     54.0 months  6.0 months  14.42 months  12.0 months\n",
       "群众     60.0 months  6.0 months   14.9 months  12.0 months\n",
       "个体户    54.0 months  6.0 months   11.8 months   9.0 months\n",
       "务农     30.0 months  6.0 months   11.3 months  12.0 months\n",
       "个体经营者  42.0 months  6.0 months  13.47 months   9.5 months\n",
       "职工     36.0 months  6.0 months  10.48 months   8.0 months"
      ]
     },
     "execution_count": 444,
     "metadata": {},
     "output_type": "execute_result"
    }
   ],
   "source": [
    "occu_i_stats_result = []\n",
    "occu_total_stats_result = []\n",
    "\n",
    "for k in occu_total_dict.keys():\n",
    "    i_arr = occu_total_dict[k][0]\n",
    "    i_max = np.max(i_arr)\n",
    "    i_min = np.min(i_arr)\n",
    "    i_mean = np.around(np.mean(i_arr), decimals=2)\n",
    "    i_median = np.median(i_arr)\n",
    "    i_stats_result = [i_max, i_min, i_mean, i_median]\n",
    "    occu_total_stats_result.append(i_stats_result)\n",
    "df = pd.DataFrame(np.array(occu_total_stats_result),columns=['max', 'min', 'mean', 'median'])\n",
    "df.rename(index={k[0]:k[1] for k in list(enumerate([i[0] for i in count_dict[:10]]))}, inplace=True)\n",
    "df = df.astype(str)\n",
    "for row in range(len(df)):\n",
    "    for column in df.columns:\n",
    "        df.iloc[row][column] = df.iloc[row][column] + \" months\"\n",
    "df"
   ]
  },
  {
   "cell_type": "markdown",
   "metadata": {},
   "source": [
    "### Suspended by occupation"
   ]
  },
  {
   "cell_type": "code",
   "execution_count": 445,
   "metadata": {},
   "outputs": [
    {
     "data": {
      "text/html": [
       "<div>\n",
       "<style scoped>\n",
       "    .dataframe tbody tr th:only-of-type {\n",
       "        vertical-align: middle;\n",
       "    }\n",
       "\n",
       "    .dataframe tbody tr th {\n",
       "        vertical-align: top;\n",
       "    }\n",
       "\n",
       "    .dataframe thead th {\n",
       "        text-align: right;\n",
       "    }\n",
       "</style>\n",
       "<table border=\"1\" class=\"dataframe\">\n",
       "  <thead>\n",
       "    <tr style=\"text-align: right;\">\n",
       "      <th></th>\n",
       "      <th>max</th>\n",
       "      <th>min</th>\n",
       "      <th>mean</th>\n",
       "      <th>median</th>\n",
       "    </tr>\n",
       "  </thead>\n",
       "  <tbody>\n",
       "    <tr>\n",
       "      <th>农民</th>\n",
       "      <td>60.0 months</td>\n",
       "      <td>3.0 months</td>\n",
       "      <td>16.55 months</td>\n",
       "      <td>12.0 months</td>\n",
       "    </tr>\n",
       "    <tr>\n",
       "      <th>无业</th>\n",
       "      <td>48.0 months</td>\n",
       "      <td>4.0 months</td>\n",
       "      <td>17.38 months</td>\n",
       "      <td>12.0 months</td>\n",
       "    </tr>\n",
       "    <tr>\n",
       "      <th>务工</th>\n",
       "      <td>24.0 months</td>\n",
       "      <td>4.0 months</td>\n",
       "      <td>12.35 months</td>\n",
       "      <td>12.0 months</td>\n",
       "    </tr>\n",
       "    <tr>\n",
       "      <th>经商</th>\n",
       "      <td>48.0 months</td>\n",
       "      <td>6.0 months</td>\n",
       "      <td>18.21 months</td>\n",
       "      <td>18.0 months</td>\n",
       "    </tr>\n",
       "    <tr>\n",
       "      <th>个体</th>\n",
       "      <td>48.0 months</td>\n",
       "      <td>6.0 months</td>\n",
       "      <td>20.57 months</td>\n",
       "      <td>24.0 months</td>\n",
       "    </tr>\n",
       "    <tr>\n",
       "      <th>群众</th>\n",
       "      <td>24.0 months</td>\n",
       "      <td>8.0 months</td>\n",
       "      <td>17.74 months</td>\n",
       "      <td>18.0 months</td>\n",
       "    </tr>\n",
       "    <tr>\n",
       "      <th>个体户</th>\n",
       "      <td>60.0 months</td>\n",
       "      <td>6.0 months</td>\n",
       "      <td>16.91 months</td>\n",
       "      <td>12.0 months</td>\n",
       "    </tr>\n",
       "    <tr>\n",
       "      <th>务农</th>\n",
       "      <td>36.0 months</td>\n",
       "      <td>3.0 months</td>\n",
       "      <td>16.67 months</td>\n",
       "      <td>12.0 months</td>\n",
       "    </tr>\n",
       "    <tr>\n",
       "      <th>个体经营者</th>\n",
       "      <td>48.0 months</td>\n",
       "      <td>6.0 months</td>\n",
       "      <td>18.0 months</td>\n",
       "      <td>13.0 months</td>\n",
       "    </tr>\n",
       "    <tr>\n",
       "      <th>职工</th>\n",
       "      <td>36.0 months</td>\n",
       "      <td>6.0 months</td>\n",
       "      <td>13.83 months</td>\n",
       "      <td>12.0 months</td>\n",
       "    </tr>\n",
       "  </tbody>\n",
       "</table>\n",
       "</div>"
      ],
      "text/plain": [
       "               max         min          mean       median\n",
       "农民     60.0 months  3.0 months  16.55 months  12.0 months\n",
       "无业     48.0 months  4.0 months  17.38 months  12.0 months\n",
       "务工     24.0 months  4.0 months  12.35 months  12.0 months\n",
       "经商     48.0 months  6.0 months  18.21 months  18.0 months\n",
       "个体     48.0 months  6.0 months  20.57 months  24.0 months\n",
       "群众     24.0 months  8.0 months  17.74 months  18.0 months\n",
       "个体户    60.0 months  6.0 months  16.91 months  12.0 months\n",
       "务农     36.0 months  3.0 months  16.67 months  12.0 months\n",
       "个体经营者  48.0 months  6.0 months   18.0 months  13.0 months\n",
       "职工     36.0 months  6.0 months  13.83 months  12.0 months"
      ]
     },
     "execution_count": 445,
     "metadata": {},
     "output_type": "execute_result"
    }
   ],
   "source": [
    "occu_i_stats_result = []\n",
    "occu_total_stats_result = []\n",
    "\n",
    "for k in occu_total_dict.keys():\n",
    "    i_arr = occu_total_dict[k][1]\n",
    "    i_max = np.max(i_arr)\n",
    "    i_min = np.min(i_arr)\n",
    "    i_mean = np.around(np.mean(i_arr), decimals=2)\n",
    "    i_median = np.median(i_arr)\n",
    "    i_stats_result = [i_max, i_min, i_mean, i_median]\n",
    "    occu_total_stats_result.append(i_stats_result)\n",
    "df = pd.DataFrame(np.array(occu_total_stats_result),columns=['max', 'min', 'mean', 'median'])\n",
    "df.rename(index={k[0]:k[1] for k in list(enumerate([i[0] for i in count_dict[:10]]))}, inplace=True)\n",
    "df = df.astype(str)\n",
    "for row in range(len(df)):\n",
    "    for column in df.columns:\n",
    "        df.iloc[row][column] = df.iloc[row][column] + \" months\"\n",
    "df"
   ]
  },
  {
   "cell_type": "markdown",
   "metadata": {},
   "source": [
    "### Dentention by occupation"
   ]
  },
  {
   "cell_type": "code",
   "execution_count": 449,
   "metadata": {},
   "outputs": [
    {
     "data": {
      "text/html": [
       "<div>\n",
       "<style scoped>\n",
       "    .dataframe tbody tr th:only-of-type {\n",
       "        vertical-align: middle;\n",
       "    }\n",
       "\n",
       "    .dataframe tbody tr th {\n",
       "        vertical-align: top;\n",
       "    }\n",
       "\n",
       "    .dataframe thead th {\n",
       "        text-align: right;\n",
       "    }\n",
       "</style>\n",
       "<table border=\"1\" class=\"dataframe\">\n",
       "  <thead>\n",
       "    <tr style=\"text-align: right;\">\n",
       "      <th></th>\n",
       "      <th>max</th>\n",
       "      <th>min</th>\n",
       "      <th>mean</th>\n",
       "      <th>median</th>\n",
       "    </tr>\n",
       "  </thead>\n",
       "  <tbody>\n",
       "    <tr>\n",
       "      <th>农民</th>\n",
       "      <td>180.0 days</td>\n",
       "      <td>30.0 days</td>\n",
       "      <td>124.24 days</td>\n",
       "      <td>120.0 days</td>\n",
       "    </tr>\n",
       "    <tr>\n",
       "      <th>无业</th>\n",
       "      <td>180.0 days</td>\n",
       "      <td>60.0 days</td>\n",
       "      <td>132.31 days</td>\n",
       "      <td>150.0 days</td>\n",
       "    </tr>\n",
       "    <tr>\n",
       "      <th>务工</th>\n",
       "      <td>180.0 days</td>\n",
       "      <td>60.0 days</td>\n",
       "      <td>138.77 days</td>\n",
       "      <td>150.0 days</td>\n",
       "    </tr>\n",
       "    <tr>\n",
       "      <th>经商</th>\n",
       "      <td>180.0 days</td>\n",
       "      <td>30.0 days</td>\n",
       "      <td>123.17 days</td>\n",
       "      <td>120.0 days</td>\n",
       "    </tr>\n",
       "    <tr>\n",
       "      <th>个体</th>\n",
       "      <td>180.0 days</td>\n",
       "      <td>60.0 days</td>\n",
       "      <td>130.91 days</td>\n",
       "      <td>150.0 days</td>\n",
       "    </tr>\n",
       "    <tr>\n",
       "      <th>群众</th>\n",
       "      <td>180.0 days</td>\n",
       "      <td>60.0 days</td>\n",
       "      <td>116.47 days</td>\n",
       "      <td>120.0 days</td>\n",
       "    </tr>\n",
       "    <tr>\n",
       "      <th>个体户</th>\n",
       "      <td>180.0 days</td>\n",
       "      <td>90.0 days</td>\n",
       "      <td>132.0 days</td>\n",
       "      <td>120.0 days</td>\n",
       "    </tr>\n",
       "    <tr>\n",
       "      <th>务农</th>\n",
       "      <td>180.0 days</td>\n",
       "      <td>90.0 days</td>\n",
       "      <td>135.0 days</td>\n",
       "      <td>120.0 days</td>\n",
       "    </tr>\n",
       "    <tr>\n",
       "      <th>个体经营者</th>\n",
       "      <td>180.0 days</td>\n",
       "      <td>60.0 days</td>\n",
       "      <td>146.05 days</td>\n",
       "      <td>150.0 days</td>\n",
       "    </tr>\n",
       "    <tr>\n",
       "      <th>职工</th>\n",
       "      <td>150.0 days</td>\n",
       "      <td>90.0 days</td>\n",
       "      <td>130.0 days</td>\n",
       "      <td>135.0 days</td>\n",
       "    </tr>\n",
       "  </tbody>\n",
       "</table>\n",
       "</div>"
      ],
      "text/plain": [
       "              max        min         mean      median\n",
       "农民     180.0 days  30.0 days  124.24 days  120.0 days\n",
       "无业     180.0 days  60.0 days  132.31 days  150.0 days\n",
       "务工     180.0 days  60.0 days  138.77 days  150.0 days\n",
       "经商     180.0 days  30.0 days  123.17 days  120.0 days\n",
       "个体     180.0 days  60.0 days  130.91 days  150.0 days\n",
       "群众     180.0 days  60.0 days  116.47 days  120.0 days\n",
       "个体户    180.0 days  90.0 days   132.0 days  120.0 days\n",
       "务农     180.0 days  90.0 days   135.0 days  120.0 days\n",
       "个体经营者  180.0 days  60.0 days  146.05 days  150.0 days\n",
       "职工     150.0 days  90.0 days   130.0 days  135.0 days"
      ]
     },
     "execution_count": 449,
     "metadata": {},
     "output_type": "execute_result"
    }
   ],
   "source": [
    "occu_i_stats_result = []\n",
    "occu_total_stats_result = []\n",
    "\n",
    "for k in occu_total_dict.keys():\n",
    "    i_arr = occu_total_dict[k][2]\n",
    "    i_max = np.max(i_arr)\n",
    "    i_min = np.min(i_arr)\n",
    "    i_mean = np.around(np.mean(i_arr), decimals=2)\n",
    "    i_median = np.median(i_arr)\n",
    "    i_stats_result = [i_max, i_min, i_mean, i_median]\n",
    "    occu_total_stats_result.append(i_stats_result)\n",
    "df = pd.DataFrame(np.array(occu_total_stats_result),columns=['max', 'min', 'mean', 'median'])\n",
    "df.rename(index={k[0]:k[1] for k in list(enumerate([i[0] for i in count_dict[:10]]))}, inplace=True)\n",
    "df = df.astype(str)\n",
    "for row in range(len(df)):\n",
    "    for column in df.columns:\n",
    "        df.iloc[row][column] = df.iloc[row][column] + \" days\"\n",
    "df"
   ]
  },
  {
   "cell_type": "markdown",
   "metadata": {},
   "source": [
    "### Detention by occupation"
   ]
  },
  {
   "cell_type": "code",
   "execution_count": 448,
   "metadata": {},
   "outputs": [
    {
     "data": {
      "text/html": [
       "<div>\n",
       "<style scoped>\n",
       "    .dataframe tbody tr th:only-of-type {\n",
       "        vertical-align: middle;\n",
       "    }\n",
       "\n",
       "    .dataframe tbody tr th {\n",
       "        vertical-align: top;\n",
       "    }\n",
       "\n",
       "    .dataframe thead th {\n",
       "        text-align: right;\n",
       "    }\n",
       "</style>\n",
       "<table border=\"1\" class=\"dataframe\">\n",
       "  <thead>\n",
       "    <tr style=\"text-align: right;\">\n",
       "      <th></th>\n",
       "      <th>max</th>\n",
       "      <th>min</th>\n",
       "      <th>mean</th>\n",
       "      <th>median</th>\n",
       "    </tr>\n",
       "  </thead>\n",
       "  <tbody>\n",
       "    <tr>\n",
       "      <th>农民</th>\n",
       "      <td>800000.0 CNY</td>\n",
       "      <td>1000.0 CNY</td>\n",
       "      <td>25121.54 CNY</td>\n",
       "      <td>15000.0 CNY</td>\n",
       "    </tr>\n",
       "    <tr>\n",
       "      <th>无业</th>\n",
       "      <td>1000000.0 CNY</td>\n",
       "      <td>1000.0 CNY</td>\n",
       "      <td>28595.28 CNY</td>\n",
       "      <td>10000.0 CNY</td>\n",
       "    </tr>\n",
       "    <tr>\n",
       "      <th>务工</th>\n",
       "      <td>150000.0 CNY</td>\n",
       "      <td>2000.0 CNY</td>\n",
       "      <td>12581.82 CNY</td>\n",
       "      <td>7000.0 CNY</td>\n",
       "    </tr>\n",
       "    <tr>\n",
       "      <th>经商</th>\n",
       "      <td>300000.0 CNY</td>\n",
       "      <td>3000.0 CNY</td>\n",
       "      <td>21289.2 CNY</td>\n",
       "      <td>10000.0 CNY</td>\n",
       "    </tr>\n",
       "    <tr>\n",
       "      <th>个体</th>\n",
       "      <td>800000.0 CNY</td>\n",
       "      <td>3000.0 CNY</td>\n",
       "      <td>36694.58 CNY</td>\n",
       "      <td>20000.0 CNY</td>\n",
       "    </tr>\n",
       "    <tr>\n",
       "      <th>群众</th>\n",
       "      <td>200000.0 CNY</td>\n",
       "      <td>2000.0 CNY</td>\n",
       "      <td>27173.91 CNY</td>\n",
       "      <td>15000.0 CNY</td>\n",
       "    </tr>\n",
       "    <tr>\n",
       "      <th>个体户</th>\n",
       "      <td>100000.0 CNY</td>\n",
       "      <td>3000.0 CNY</td>\n",
       "      <td>18829.63 CNY</td>\n",
       "      <td>10000.0 CNY</td>\n",
       "    </tr>\n",
       "    <tr>\n",
       "      <th>务农</th>\n",
       "      <td>200000.0 CNY</td>\n",
       "      <td>1000.0 CNY</td>\n",
       "      <td>20496.06 CNY</td>\n",
       "      <td>10000.0 CNY</td>\n",
       "    </tr>\n",
       "    <tr>\n",
       "      <th>个体经营者</th>\n",
       "      <td>180000.0 CNY</td>\n",
       "      <td>1000.0 CNY</td>\n",
       "      <td>24375.0 CNY</td>\n",
       "      <td>20000.0 CNY</td>\n",
       "    </tr>\n",
       "    <tr>\n",
       "      <th>职工</th>\n",
       "      <td>120000.0 CNY</td>\n",
       "      <td>1000.0 CNY</td>\n",
       "      <td>25861.11 CNY</td>\n",
       "      <td>20000.0 CNY</td>\n",
       "    </tr>\n",
       "  </tbody>\n",
       "</table>\n",
       "</div>"
      ],
      "text/plain": [
       "                 max         min          mean       median\n",
       "农民      800000.0 CNY  1000.0 CNY  25121.54 CNY  15000.0 CNY\n",
       "无业     1000000.0 CNY  1000.0 CNY  28595.28 CNY  10000.0 CNY\n",
       "务工      150000.0 CNY  2000.0 CNY  12581.82 CNY   7000.0 CNY\n",
       "经商      300000.0 CNY  3000.0 CNY   21289.2 CNY  10000.0 CNY\n",
       "个体      800000.0 CNY  3000.0 CNY  36694.58 CNY  20000.0 CNY\n",
       "群众      200000.0 CNY  2000.0 CNY  27173.91 CNY  15000.0 CNY\n",
       "个体户     100000.0 CNY  3000.0 CNY  18829.63 CNY  10000.0 CNY\n",
       "务农      200000.0 CNY  1000.0 CNY  20496.06 CNY  10000.0 CNY\n",
       "个体经营者   180000.0 CNY  1000.0 CNY   24375.0 CNY  20000.0 CNY\n",
       "职工      120000.0 CNY  1000.0 CNY  25861.11 CNY  20000.0 CNY"
      ]
     },
     "execution_count": 448,
     "metadata": {},
     "output_type": "execute_result"
    }
   ],
   "source": [
    "occu_i_stats_result = []\n",
    "occu_total_stats_result = []\n",
    "\n",
    "for k in occu_total_dict.keys():\n",
    "    i_arr = occu_total_dict[k][3]\n",
    "    i_max = np.max(i_arr)\n",
    "    i_min = np.min(i_arr)\n",
    "    i_mean = np.around(np.mean(i_arr), decimals=2)\n",
    "    i_median = np.median(i_arr)\n",
    "    i_stats_result = [i_max, i_min, i_mean, i_median]\n",
    "    occu_total_stats_result.append(i_stats_result)\n",
    "df = pd.DataFrame(np.array(occu_total_stats_result),columns=['max', 'min', 'mean', 'median'])\n",
    "df.rename(index={k[0]:k[1] for k in list(enumerate([i[0] for i in count_dict[:10]]))}, inplace=True)\n",
    "df = df.astype(str)\n",
    "for row in range(len(df)):\n",
    "    for column in df.columns:\n",
    "        df.iloc[row][column] = df.iloc[row][column] + \" CNY\"\n",
    "df"
   ]
  },
  {
   "cell_type": "markdown",
   "metadata": {},
   "source": [
    "Last time Left off here <a name='bookmark' />"
   ]
  },
  {
   "cell_type": "markdown",
   "metadata": {},
   "source": [
    "---\n",
    "## Find x random samples from data"
   ]
  },
  {
   "cell_type": "code",
   "execution_count": 230,
   "metadata": {},
   "outputs": [],
   "source": [
    "# x: the number of samoles\n",
    "x = 200"
   ]
  },
  {
   "cell_type": "code",
   "execution_count": 323,
   "metadata": {},
   "outputs": [
    {
     "name": "stdout",
     "output_type": "stream",
     "text": [
      "old txt file removed\n",
      "new files saved\n"
     ]
    }
   ],
   "source": [
    "random.seed(101)\n",
    "if \"Random {0} cases.txt\".format(x) in os.listdir(\"./\"):\n",
    "    os.remove(\"Random {0} cases.txt\".format(x))\n",
    "    print(\"old txt file removed\")\n",
    "file1 = open(\"Random {0} cases.txt\".format(x),\"a\")\n",
    "pid_lst = []\n",
    "parsed_result = []\n",
    "original_decision = []\n",
    "original_text = []\n",
    "for i in range(x):\n",
    "    index = random.randint(0, len(data))\n",
    "    \n",
    "    pid = data[index][0]['pid']\n",
    "    row_index = pollution_df.loc[pollution_df['pid'] == pid].index[0]\n",
    "    \n",
    "    pid_lst.append(pid)\n",
    "    parsed_result.append(data[index])\n",
    "    \n",
    "    if pid not in pid_to_clean:\n",
    "        original_decision.append(pollution_df['decision'][row_index])\n",
    "    else:\n",
    "        original_decision.append(pollution_df['originaltext'][row_index])\n",
    "    \n",
    "    original_text.append(pollution_df['originaltext'][row_index])\n",
    "\n",
    "# random_cases_df = pd.DataFrame({\"pid\":pid_lst, \"parsed_result\":parsed_result, \n",
    "#                                 \"original_decision\":original_decision, \n",
    "#                                 \"original_text\":original_text})\n",
    "\n",
    "#     print(data[index], '\\n')\n",
    "#     print(pollution_df['originaltext'][row_index])\n",
    "\n",
    "    # save to txt file\n",
    "    file1.write(\"case {0}, pid: {1}\".format(i+1, pid) + '\\n')\n",
    "    file1.write(str(data[index]) + '\\n')\n",
    "    file1.write('\\n')\n",
    "    file1.write(str(pollution_df['originaltext'][row_index]))\n",
    "    for i in range(5):\n",
    "        file1.write('\\n')\n",
    "\n",
    "file1.close()\n",
    "\n",
    "random_cases_df = pd.DataFrame({\"correct\":[0 for i in range(len(pid_lst))], \"pid\":pid_lst, \"parsed_result\":parsed_result, \n",
    "                                \"original_decision\":original_decision})\n",
    "random_cases_df.to_csv(\"./random_cases_df.csv\", encoding=\"utf-8-sig\")\n",
    "print(\"new files saved\")"
   ]
  },
  {
   "cell_type": "code",
   "execution_count": null,
   "metadata": {},
   "outputs": [],
   "source": []
  }
 ],
 "metadata": {
  "kernelspec": {
   "display_name": "Python 3",
   "language": "python",
   "name": "python3"
  },
  "language_info": {
   "codemirror_mode": {
    "name": "ipython",
    "version": 3
   },
   "file_extension": ".py",
   "mimetype": "text/x-python",
   "name": "python",
   "nbconvert_exporter": "python",
   "pygments_lexer": "ipython3",
   "version": "3.7.3"
  }
 },
 "nbformat": 4,
 "nbformat_minor": 2
}
